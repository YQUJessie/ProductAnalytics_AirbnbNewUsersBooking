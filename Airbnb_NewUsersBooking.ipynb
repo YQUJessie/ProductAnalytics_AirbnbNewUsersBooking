{
  "nbformat": 4,
  "nbformat_minor": 0,
  "metadata": {
    "colab": {
      "provenance": []
    },
    "kernelspec": {
      "name": "python3",
      "display_name": "Python 3"
    },
    "language_info": {
      "name": "python"
    }
  },
  "cells": [
    {
      "cell_type": "markdown",
      "source": [
        "#Product Analytics - New User Booking #"
      ],
      "metadata": {
        "id": "Q-ciIG0FSNQo"
      }
    },
    {
      "cell_type": "markdown",
      "source": [
        "## **1.0 Problem Statement** ##"
      ],
      "metadata": {
        "id": "qPIcFlkOS3YI"
      }
    },
    {
      "cell_type": "markdown",
      "source": [
        "New users on Airbnb can book a place to stay in 34,000+ cities across 190+ countries. By accurately predicting where a new user will book their first travel experience, Airbnb can share more personalized content with their community, decrease the average time to first booking and better forecast demand, thus increasing revenue.\n",
        "\n",
        "In this project, a list of users along with their demographics, web session records, and some summary statistics is given. The purpose of the project is to develop a predictive model that predicts the Airbnb new users' first booking destination amongst the 12 possible outcomes. \n",
        "\n"
      ],
      "metadata": {
        "id": "q4QdsGHoUryd"
      }
    },
    {
      "cell_type": "markdown",
      "source": [
        "## **2.0 Packages** ##"
      ],
      "metadata": {
        "id": "gKXd-y3EfBOU"
      }
    },
    {
      "cell_type": "code",
      "execution_count": 2,
      "metadata": {
        "id": "UQ7Ar--TPNWS"
      },
      "outputs": [],
      "source": [
        "import numpy as np\n",
        "import pandas as pd\n",
        "import matplotlib.pyplot as plt\n",
        "import sklearn as sk\n",
        "%matplotlib inline\n",
        "import datetime\n",
        "import os\n",
        "import seaborn as sns\n",
        "from datetime import date\n",
        "from sklearn.preprocessing import LabelEncoder\n",
        "from sklearn.preprocessing import StandardScaler\n",
        "from sklearn.preprocessing import LabelBinarizer\n",
        "import pickle\n",
        "import seaborn as sns\n",
        "from sklearn.metrics import *\n",
        "from sklearn.model_selection import *"
      ]
    },
    {
      "cell_type": "markdown",
      "source": [
        "## **3.0 Dataset** ##"
      ],
      "metadata": {
        "id": "sYHNyUq3q8HO"
      }
    },
    {
      "cell_type": "markdown",
      "source": [
        "Airbnb New User Bookings:\n",
        "\n",
        "https://www.kaggle.com/competitions/airbnb-recruiting-new-user-bookings/data"
      ],
      "metadata": {
        "id": "pUUAKh4Yq89M"
      }
    },
    {
      "cell_type": "markdown",
      "source": [
        "**File descriptions**\n",
        "\n",
        "The training and test sets are split by dates. In the test set, you will predict all the new users with first activities after 7/1/2014 (note: this is updated on 12/5/15 when the competition restarted). In the sessions dataset, the data only dates back to 1/1/2014, while the users dataset dates back to 2010. \n",
        "\n",
        "- train_users.csv - the training set of users\n",
        "- test_users.csv - the test set of users\n",
        " * id: user id\n",
        " * date_account_created: the date of account creation\n",
        " * timestamp_first_active: timestamp of the first activity, note that it can be earlier than date_account_created or date_first_booking because a user can search before signing up\n",
        " * date_first_booking: date of first booking\n",
        " * gender\n",
        " * age\n",
        " * signup_method\n",
        " * signup_flow: the page a user came to signup up from\n",
        " * language: international language preference\n",
        " * affiliate_channel: what kind of paid marketing\n",
        " * affiliate_provider: where the marketing is e.g. google, craigslist, other\n",
        " * first_affiliate_tracked: whats the first marketing the user interacted with before the signing up\n",
        " * signup_app\n",
        " * first_device_type\n",
        " * first_browser\n",
        " * country_destination: this is the target variable you are to predict\n",
        "- sessions.csv - web sessions log for users\n",
        " * user_id: to be joined with the column 'id' in users table\n",
        " * action\n",
        " * action_type\n",
        " * action_detail\n",
        " * device_type\n",
        " * secs_elapsed\n",
        "- countries.csv - summary statistics of destination countries in this dataset and their locations\n",
        "- age_gender_bkts.csv - summary statistics of users' age group, gender, country of destination\n"
      ],
      "metadata": {
        "id": "KqgEoHGfTnUJ"
      }
    },
    {
      "cell_type": "markdown",
      "source": [
        "### 3.1 Load the Dataset ###"
      ],
      "metadata": {
        "id": "r_rQoSsafyJf"
      }
    },
    {
      "cell_type": "code",
      "source": [
        "# Load the training and test datasets\n",
        "df_train = pd.read_csv('train_users_2.csv')\n",
        "df_test = pd.read_csv('test_users.csv')\n",
        "sessions = pd.read_csv('sessions.csv')\n",
        "usergrp = pd.read_csv('age_gender_bkts.csv')\n",
        "countries = pd.read_csv('countries.csv')"
      ],
      "metadata": {
        "id": "M8EUkK_6rHxb"
      },
      "execution_count": 3,
      "outputs": []
    },
    {
      "cell_type": "markdown",
      "source": [
        "### 3.2 Dataset Exploration ###"
      ],
      "metadata": {
        "id": "vsl8pqUBjmS9"
      }
    },
    {
      "cell_type": "markdown",
      "source": [
        "* #### 3.2.1 For 'age_gender_bkts.csv': ####"
      ],
      "metadata": {
        "id": "lH03tUdfj41M"
      }
    },
    {
      "cell_type": "code",
      "source": [
        "# Show 'age_gender_bkts.csv' dataset\n",
        "print(usergrp)"
      ],
      "metadata": {
        "colab": {
          "base_uri": "https://localhost:8080/"
        },
        "id": "Tp1KYKTfl21Z",
        "outputId": "c11ca52c-3426-4e87-be47-31886a14e8a5"
      },
      "execution_count": null,
      "outputs": [
        {
          "output_type": "stream",
          "name": "stdout",
          "text": [
            "    age_bucket country_destination  gender  population_in_thousands    year\n",
            "0         100+                  AU    male                      1.0  2015.0\n",
            "1        95-99                  AU    male                      9.0  2015.0\n",
            "2        90-94                  AU    male                     47.0  2015.0\n",
            "3        85-89                  AU    male                    118.0  2015.0\n",
            "4        80-84                  AU    male                    199.0  2015.0\n",
            "..         ...                 ...     ...                      ...     ...\n",
            "415      95-99                  US    male                    115.0  2015.0\n",
            "416      90-94                  US    male                    541.0  2015.0\n",
            "417      15-19                  US  female                  10570.0  2015.0\n",
            "418      85-89                  US    male                   1441.0  2015.0\n",
            "419      80-84                  US    male                   2442.0  2015.0\n",
            "\n",
            "[420 rows x 5 columns]\n"
          ]
        }
      ]
    },
    {
      "cell_type": "code",
      "source": [
        "# Check Data Dimensions\n",
        "print('Number of rows and columns are: {}'.format(usergrp.shape))\n",
        "print('.....................................................')\n",
        "\n",
        "# Check Data Type\n",
        "usergrp.info()\n",
        "print('.....................................................')\n",
        "\n",
        "# Count the number of each dtype\n",
        "print(usergrp.dtypes.value_counts())\n",
        "print('.....................................................')\n",
        "\n",
        "# Check the missing value\n",
        "print(usergrp.isnull().sum())\n",
        "print(f'Thus, there is no missing value in the dataset.')"
      ],
      "metadata": {
        "colab": {
          "base_uri": "https://localhost:8080/"
        },
        "id": "MKvnDHKskJQx",
        "outputId": "2d72be86-3c9b-411a-9ac2-9e33a769b841"
      },
      "execution_count": null,
      "outputs": [
        {
          "output_type": "stream",
          "name": "stdout",
          "text": [
            "Number of rows and columns are: (420, 5)\n",
            ".....................................................\n",
            "<class 'pandas.core.frame.DataFrame'>\n",
            "RangeIndex: 420 entries, 0 to 419\n",
            "Data columns (total 5 columns):\n",
            " #   Column                   Non-Null Count  Dtype  \n",
            "---  ------                   --------------  -----  \n",
            " 0   age_bucket               420 non-null    object \n",
            " 1   country_destination      420 non-null    object \n",
            " 2   gender                   420 non-null    object \n",
            " 3   population_in_thousands  420 non-null    float64\n",
            " 4   year                     420 non-null    float64\n",
            "dtypes: float64(2), object(3)\n",
            "memory usage: 16.5+ KB\n",
            ".....................................................\n",
            "object     3\n",
            "float64    2\n",
            "dtype: int64\n",
            ".....................................................\n",
            "age_bucket                 0\n",
            "country_destination        0\n",
            "gender                     0\n",
            "population_in_thousands    0\n",
            "year                       0\n",
            "dtype: int64\n",
            "Thus, there is no missing value in the dataset.\n"
          ]
        }
      ]
    },
    {
      "cell_type": "code",
      "source": [
        "# Count the value of each column\n",
        "for col in usergrp.columns:\n",
        "    print (\"---- %s ----\" % col)\n",
        "    print (usergrp[col].value_counts())"
      ],
      "metadata": {
        "colab": {
          "base_uri": "https://localhost:8080/"
        },
        "id": "Qi6Of6FWDB1_",
        "outputId": "ad8c241d-54fb-48a7-ca99-703dfae2c9f8"
      },
      "execution_count": null,
      "outputs": [
        {
          "output_type": "stream",
          "name": "stdout",
          "text": [
            "---- age_bucket ----\n",
            "100+     20\n",
            "45-49    20\n",
            "5-9      20\n",
            "10-14    20\n",
            "15-19    20\n",
            "20-24    20\n",
            "25-29    20\n",
            "30-34    20\n",
            "35-39    20\n",
            "40-44    20\n",
            "50-54    20\n",
            "95-99    20\n",
            "55-59    20\n",
            "60-64    20\n",
            "65-69    20\n",
            "70-74    20\n",
            "75-79    20\n",
            "80-84    20\n",
            "85-89    20\n",
            "90-94    20\n",
            "0-4      20\n",
            "Name: age_bucket, dtype: int64\n",
            "---- country_destination ----\n",
            "AU    42\n",
            "CA    42\n",
            "DE    42\n",
            "ES    42\n",
            "FR    42\n",
            "GB    42\n",
            "IT    42\n",
            "NL    42\n",
            "PT    42\n",
            "US    42\n",
            "Name: country_destination, dtype: int64\n",
            "---- gender ----\n",
            "male      210\n",
            "female    210\n",
            "Name: gender, dtype: int64\n",
            "---- population_in_thousands ----\n",
            "3.0       6\n",
            "1.0       3\n",
            "9.0       3\n",
            "13.0      3\n",
            "115.0     2\n",
            "         ..\n",
            "1040.0    1\n",
            "1198.0    1\n",
            "1087.0    1\n",
            "1909.0    1\n",
            "2442.0    1\n",
            "Name: population_in_thousands, Length: 381, dtype: int64\n",
            "---- year ----\n",
            "2015.0    420\n",
            "Name: year, dtype: int64\n"
          ]
        }
      ]
    },
    {
      "cell_type": "markdown",
      "source": [
        "**Comment**: As shown in the above, 'year' column' had only one value in 'age_gender_bkts.csv' dataset, so we could drop this column as it provided no useful information."
      ],
      "metadata": {
        "id": "0jnpO_q8DJAJ"
      }
    },
    {
      "cell_type": "code",
      "source": [
        "# Drop the 'year' column\n",
        "usergrp = usergrp.drop(['year'], axis=1)\n",
        "print(usergrp.sample())"
      ],
      "metadata": {
        "colab": {
          "base_uri": "https://localhost:8080/"
        },
        "id": "hx-fikANb5qg",
        "outputId": "aef8cac1-eb6c-450f-ddca-f7ccc364fd64"
      },
      "execution_count": null,
      "outputs": [
        {
          "output_type": "stream",
          "name": "stdout",
          "text": [
            "  age_bucket country_destination gender  population_in_thousands\n",
            "3      85-89                  AU   male                    118.0\n"
          ]
        }
      ]
    },
    {
      "cell_type": "markdown",
      "source": [
        "* #### 3.2.2 For 'countries.csv': ####"
      ],
      "metadata": {
        "id": "2NhP2DY4_VSX"
      }
    },
    {
      "cell_type": "code",
      "source": [
        "# Show 'countries.csv' dataset\n",
        "print(countries.head())"
      ],
      "metadata": {
        "colab": {
          "base_uri": "https://localhost:8080/"
        },
        "id": "QnAv_CM-V4-5",
        "outputId": "c3c9076f-425b-4af0-83c0-34ad6848b474"
      },
      "execution_count": null,
      "outputs": [
        {
          "output_type": "stream",
          "name": "stdout",
          "text": [
            "  country_destination  lat_destination  lng_destination  distance_km  \\\n",
            "0                  AU       -26.853388       133.275160   15297.7440   \n",
            "1                  CA        62.393303       -96.818146    2828.1333   \n",
            "2                  DE        51.165707        10.452764    7879.5680   \n",
            "3                  ES        39.896027        -2.487694    7730.7240   \n",
            "4                  FR        46.232193         2.209667    7682.9450   \n",
            "\n",
            "   destination_km2 destination_language   language_levenshtein_distance  \n",
            "0        7741220.0                   eng                           0.00  \n",
            "1        9984670.0                   eng                           0.00  \n",
            "2         357022.0                   deu                          72.61  \n",
            "3         505370.0                   spa                          92.25  \n",
            "4         643801.0                   fra                          92.06  \n"
          ]
        }
      ]
    },
    {
      "cell_type": "code",
      "source": [
        "# Check Data Dimensions\n",
        "print('Number of rows and columns are: {}'.format(countries.shape))\n",
        "print('.....................................................')\n",
        "\n",
        "# Check Data Type\n",
        "countries.info()\n",
        "print('.....................................................')\n",
        "\n",
        "# Count the number of each dtype\n",
        "print(countries.dtypes.value_counts())\n",
        "print('.....................................................')\n",
        "\n",
        "# Check the missing value\n",
        "print(countries.isnull().sum())\n",
        "print(f'Thus, there is no missing value in the dataset.')\n",
        "print('.....................................................')\n",
        "\n",
        "# Descriptive Statistics\n",
        "countries.describe()"
      ],
      "metadata": {
        "colab": {
          "base_uri": "https://localhost:8080/"
        },
        "id": "NjB-pIMo_mJQ",
        "outputId": "e1c2927d-b1da-46e2-d261-7b8d536bd808"
      },
      "execution_count": null,
      "outputs": [
        {
          "output_type": "stream",
          "name": "stdout",
          "text": [
            "Number of rows and columns are: (10, 7)\n",
            ".....................................................\n",
            "<class 'pandas.core.frame.DataFrame'>\n",
            "RangeIndex: 10 entries, 0 to 9\n",
            "Data columns (total 7 columns):\n",
            " #   Column                         Non-Null Count  Dtype  \n",
            "---  ------                         --------------  -----  \n",
            " 0   country_destination            10 non-null     object \n",
            " 1   lat_destination                10 non-null     float64\n",
            " 2   lng_destination                10 non-null     float64\n",
            " 3   distance_km                    10 non-null     float64\n",
            " 4   destination_km2                10 non-null     float64\n",
            " 5   destination_language           10 non-null     object \n",
            " 6   language_levenshtein_distance  10 non-null     float64\n",
            "dtypes: float64(5), object(2)\n",
            "memory usage: 688.0+ bytes\n",
            ".....................................................\n",
            "float64    5\n",
            "object     2\n",
            "dtype: int64\n",
            ".....................................................\n",
            "country_destination              0\n",
            "lat_destination                  0\n",
            "lng_destination                  0\n",
            "distance_km                      0\n",
            "destination_km2                  0\n",
            "destination_language             0\n",
            "language_levenshtein_distance    0\n",
            "dtype: int64\n",
            "Thus, there is no missing value in the dataset.\n",
            ".....................................................\n"
          ]
        },
        {
          "output_type": "execute_result",
          "data": {
            "text/plain": [
              "       lat_destination  lng_destination   distance_km  destination_km2  \\\n",
              "count        10.000000        10.000000     10.000000     1.000000e+01   \n",
              "mean         39.799398        -4.262446   7181.897800     2.973734e+06   \n",
              "std          24.739112        63.700585   3941.141734     4.329619e+06   \n",
              "min         -26.853388       -96.818146      0.000000     4.154300e+04   \n",
              "25%          39.639090        -6.737559   7001.557600     2.580425e+05   \n",
              "50%          44.053092        -0.139014   7603.632650     4.311960e+05   \n",
              "75%          51.891219         9.163386   7842.357000     5.966865e+06   \n",
              "max          62.393303       133.275160  15297.744000     9.984670e+06   \n",
              "\n",
              "       language_levenshtein_distance  \n",
              "count                       10.00000  \n",
              "mean                        50.49900  \n",
              "std                         44.54169  \n",
              "min                          0.00000  \n",
              "25%                          0.00000  \n",
              "50%                         67.91500  \n",
              "75%                         91.39500  \n",
              "max                         95.45000  "
            ],
            "text/html": [
              "\n",
              "  <div id=\"df-5c5fa8bf-bf5c-4b2f-b38a-70700a531b45\">\n",
              "    <div class=\"colab-df-container\">\n",
              "      <div>\n",
              "<style scoped>\n",
              "    .dataframe tbody tr th:only-of-type {\n",
              "        vertical-align: middle;\n",
              "    }\n",
              "\n",
              "    .dataframe tbody tr th {\n",
              "        vertical-align: top;\n",
              "    }\n",
              "\n",
              "    .dataframe thead th {\n",
              "        text-align: right;\n",
              "    }\n",
              "</style>\n",
              "<table border=\"1\" class=\"dataframe\">\n",
              "  <thead>\n",
              "    <tr style=\"text-align: right;\">\n",
              "      <th></th>\n",
              "      <th>lat_destination</th>\n",
              "      <th>lng_destination</th>\n",
              "      <th>distance_km</th>\n",
              "      <th>destination_km2</th>\n",
              "      <th>language_levenshtein_distance</th>\n",
              "    </tr>\n",
              "  </thead>\n",
              "  <tbody>\n",
              "    <tr>\n",
              "      <th>count</th>\n",
              "      <td>10.000000</td>\n",
              "      <td>10.000000</td>\n",
              "      <td>10.000000</td>\n",
              "      <td>1.000000e+01</td>\n",
              "      <td>10.00000</td>\n",
              "    </tr>\n",
              "    <tr>\n",
              "      <th>mean</th>\n",
              "      <td>39.799398</td>\n",
              "      <td>-4.262446</td>\n",
              "      <td>7181.897800</td>\n",
              "      <td>2.973734e+06</td>\n",
              "      <td>50.49900</td>\n",
              "    </tr>\n",
              "    <tr>\n",
              "      <th>std</th>\n",
              "      <td>24.739112</td>\n",
              "      <td>63.700585</td>\n",
              "      <td>3941.141734</td>\n",
              "      <td>4.329619e+06</td>\n",
              "      <td>44.54169</td>\n",
              "    </tr>\n",
              "    <tr>\n",
              "      <th>min</th>\n",
              "      <td>-26.853388</td>\n",
              "      <td>-96.818146</td>\n",
              "      <td>0.000000</td>\n",
              "      <td>4.154300e+04</td>\n",
              "      <td>0.00000</td>\n",
              "    </tr>\n",
              "    <tr>\n",
              "      <th>25%</th>\n",
              "      <td>39.639090</td>\n",
              "      <td>-6.737559</td>\n",
              "      <td>7001.557600</td>\n",
              "      <td>2.580425e+05</td>\n",
              "      <td>0.00000</td>\n",
              "    </tr>\n",
              "    <tr>\n",
              "      <th>50%</th>\n",
              "      <td>44.053092</td>\n",
              "      <td>-0.139014</td>\n",
              "      <td>7603.632650</td>\n",
              "      <td>4.311960e+05</td>\n",
              "      <td>67.91500</td>\n",
              "    </tr>\n",
              "    <tr>\n",
              "      <th>75%</th>\n",
              "      <td>51.891219</td>\n",
              "      <td>9.163386</td>\n",
              "      <td>7842.357000</td>\n",
              "      <td>5.966865e+06</td>\n",
              "      <td>91.39500</td>\n",
              "    </tr>\n",
              "    <tr>\n",
              "      <th>max</th>\n",
              "      <td>62.393303</td>\n",
              "      <td>133.275160</td>\n",
              "      <td>15297.744000</td>\n",
              "      <td>9.984670e+06</td>\n",
              "      <td>95.45000</td>\n",
              "    </tr>\n",
              "  </tbody>\n",
              "</table>\n",
              "</div>\n",
              "      <button class=\"colab-df-convert\" onclick=\"convertToInteractive('df-5c5fa8bf-bf5c-4b2f-b38a-70700a531b45')\"\n",
              "              title=\"Convert this dataframe to an interactive table.\"\n",
              "              style=\"display:none;\">\n",
              "        \n",
              "  <svg xmlns=\"http://www.w3.org/2000/svg\" height=\"24px\"viewBox=\"0 0 24 24\"\n",
              "       width=\"24px\">\n",
              "    <path d=\"M0 0h24v24H0V0z\" fill=\"none\"/>\n",
              "    <path d=\"M18.56 5.44l.94 2.06.94-2.06 2.06-.94-2.06-.94-.94-2.06-.94 2.06-2.06.94zm-11 1L8.5 8.5l.94-2.06 2.06-.94-2.06-.94L8.5 2.5l-.94 2.06-2.06.94zm10 10l.94 2.06.94-2.06 2.06-.94-2.06-.94-.94-2.06-.94 2.06-2.06.94z\"/><path d=\"M17.41 7.96l-1.37-1.37c-.4-.4-.92-.59-1.43-.59-.52 0-1.04.2-1.43.59L10.3 9.45l-7.72 7.72c-.78.78-.78 2.05 0 2.83L4 21.41c.39.39.9.59 1.41.59.51 0 1.02-.2 1.41-.59l7.78-7.78 2.81-2.81c.8-.78.8-2.07 0-2.86zM5.41 20L4 18.59l7.72-7.72 1.47 1.35L5.41 20z\"/>\n",
              "  </svg>\n",
              "      </button>\n",
              "      \n",
              "  <style>\n",
              "    .colab-df-container {\n",
              "      display:flex;\n",
              "      flex-wrap:wrap;\n",
              "      gap: 12px;\n",
              "    }\n",
              "\n",
              "    .colab-df-convert {\n",
              "      background-color: #E8F0FE;\n",
              "      border: none;\n",
              "      border-radius: 50%;\n",
              "      cursor: pointer;\n",
              "      display: none;\n",
              "      fill: #1967D2;\n",
              "      height: 32px;\n",
              "      padding: 0 0 0 0;\n",
              "      width: 32px;\n",
              "    }\n",
              "\n",
              "    .colab-df-convert:hover {\n",
              "      background-color: #E2EBFA;\n",
              "      box-shadow: 0px 1px 2px rgba(60, 64, 67, 0.3), 0px 1px 3px 1px rgba(60, 64, 67, 0.15);\n",
              "      fill: #174EA6;\n",
              "    }\n",
              "\n",
              "    [theme=dark] .colab-df-convert {\n",
              "      background-color: #3B4455;\n",
              "      fill: #D2E3FC;\n",
              "    }\n",
              "\n",
              "    [theme=dark] .colab-df-convert:hover {\n",
              "      background-color: #434B5C;\n",
              "      box-shadow: 0px 1px 3px 1px rgba(0, 0, 0, 0.15);\n",
              "      filter: drop-shadow(0px 1px 2px rgba(0, 0, 0, 0.3));\n",
              "      fill: #FFFFFF;\n",
              "    }\n",
              "  </style>\n",
              "\n",
              "      <script>\n",
              "        const buttonEl =\n",
              "          document.querySelector('#df-5c5fa8bf-bf5c-4b2f-b38a-70700a531b45 button.colab-df-convert');\n",
              "        buttonEl.style.display =\n",
              "          google.colab.kernel.accessAllowed ? 'block' : 'none';\n",
              "\n",
              "        async function convertToInteractive(key) {\n",
              "          const element = document.querySelector('#df-5c5fa8bf-bf5c-4b2f-b38a-70700a531b45');\n",
              "          const dataTable =\n",
              "            await google.colab.kernel.invokeFunction('convertToInteractive',\n",
              "                                                     [key], {});\n",
              "          if (!dataTable) return;\n",
              "\n",
              "          const docLinkHtml = 'Like what you see? Visit the ' +\n",
              "            '<a target=\"_blank\" href=https://colab.research.google.com/notebooks/data_table.ipynb>data table notebook</a>'\n",
              "            + ' to learn more about interactive tables.';\n",
              "          element.innerHTML = '';\n",
              "          dataTable['output_type'] = 'display_data';\n",
              "          await google.colab.output.renderOutput(dataTable, element);\n",
              "          const docLink = document.createElement('div');\n",
              "          docLink.innerHTML = docLinkHtml;\n",
              "          element.appendChild(docLink);\n",
              "        }\n",
              "      </script>\n",
              "    </div>\n",
              "  </div>\n",
              "  "
            ]
          },
          "metadata": {},
          "execution_count": 10
        }
      ]
    },
    {
      "cell_type": "markdown",
      "source": [
        "As shown in the above, 'countries.csv' dataset was clean and extremely small, thus no cleaning techniques would be needed."
      ],
      "metadata": {
        "id": "RDO5ip_DbTUe"
      }
    },
    {
      "cell_type": "markdown",
      "source": [
        "* #### 3.2.3 For 'sessions.csv': ####"
      ],
      "metadata": {
        "id": "An8DQzWLjYOd"
      }
    },
    {
      "cell_type": "code",
      "source": [
        "# Show 'sessions.csv' dataset\n",
        "print(sessions.head())"
      ],
      "metadata": {
        "colab": {
          "base_uri": "https://localhost:8080/"
        },
        "id": "36-svu6y_Meh",
        "outputId": "b527381c-4b7a-4504-ba50-0714790e0783"
      },
      "execution_count": null,
      "outputs": [
        {
          "output_type": "stream",
          "name": "stdout",
          "text": [
            "      user_id          action action_type        action_detail  \\\n",
            "0  d1mm9tcy42          lookup         NaN                  NaN   \n",
            "1  d1mm9tcy42  search_results       click  view_search_results   \n",
            "2  d1mm9tcy42          lookup         NaN                  NaN   \n",
            "3  d1mm9tcy42  search_results       click  view_search_results   \n",
            "4  d1mm9tcy42          lookup         NaN                  NaN   \n",
            "\n",
            "       device_type  secs_elapsed  \n",
            "0  Windows Desktop         319.0  \n",
            "1  Windows Desktop       67753.0  \n",
            "2  Windows Desktop         301.0  \n",
            "3  Windows Desktop       22141.0  \n",
            "4  Windows Desktop         435.0  \n"
          ]
        }
      ]
    },
    {
      "cell_type": "code",
      "source": [
        "# Rename 'user_id' column for the further table merge step\n",
        "sessions = sessions.rename(columns = {'user_id':'id'})"
      ],
      "metadata": {
        "id": "077ZvV6ifndK"
      },
      "execution_count": null,
      "outputs": []
    },
    {
      "cell_type": "code",
      "source": [
        "# Check Data Dimensions\n",
        "print('Number of rows and columns are: {}'.format(sessions.shape))\n",
        "print('.....................................................')\n",
        "\n",
        "# Check Data Type\n",
        "sessions.info()\n",
        "print('.....................................................')\n",
        "\n",
        "# Count the number of each dtype\n",
        "print(sessions.dtypes.value_counts())\n",
        "print('.....................................................')\n",
        "\n",
        "# Check the missing value\n",
        "print(sessions.isnull().sum())\n",
        "print('.....................................................')\n",
        "\n",
        "# Descriptive Statistics\n",
        "#countries.describe()"
      ],
      "metadata": {
        "colab": {
          "base_uri": "https://localhost:8080/"
        },
        "id": "z0He3obrcxkR",
        "outputId": "ab1af2fa-6274-440e-c928-2666a66b90e2"
      },
      "execution_count": null,
      "outputs": [
        {
          "output_type": "stream",
          "name": "stdout",
          "text": [
            "Number of rows and columns are: (10567737, 6)\n",
            ".....................................................\n",
            "<class 'pandas.core.frame.DataFrame'>\n",
            "RangeIndex: 10567737 entries, 0 to 10567736\n",
            "Data columns (total 6 columns):\n",
            " #   Column         Dtype  \n",
            "---  ------         -----  \n",
            " 0   id             object \n",
            " 1   action         object \n",
            " 2   action_type    object \n",
            " 3   action_detail  object \n",
            " 4   device_type    object \n",
            " 5   secs_elapsed   float64\n",
            "dtypes: float64(1), object(5)\n",
            "memory usage: 483.8+ MB\n",
            ".....................................................\n",
            "object     5\n",
            "float64    1\n",
            "dtype: int64\n",
            ".....................................................\n",
            "id                 34496\n",
            "action             79626\n",
            "action_type      1126204\n",
            "action_detail    1126204\n",
            "device_type            0\n",
            "secs_elapsed      136031\n",
            "dtype: int64\n",
            ".....................................................\n"
          ]
        }
      ]
    },
    {
      "cell_type": "markdown",
      "source": [
        "**Comment**: \n",
        "As indicated by the above result, there were significant amount of missing values existed in the 'action', 'action_type', 'action_detail' and 'secs_elapsed' columns. Thus, these unknown fields were converted into NaN to give it more semantic meaning, while 'secs_elapsed' column would be handled in the future step.\n"
      ],
      "metadata": {
        "id": "pSxNPhragUdI"
      }
    },
    {
      "cell_type": "code",
      "source": [
        "# Fill-in the missing values\n",
        "sessions.action = sessions.action.fillna('NAN')\n",
        "sessions.action_type = sessions.action_type.fillna('NAN')\n",
        "sessions.action_detail = sessions.action_detail.fillna('NAN')\n",
        "\n",
        "# Check the missing value\n",
        "print(sessions.isnull().sum())"
      ],
      "metadata": {
        "colab": {
          "base_uri": "https://localhost:8080/"
        },
        "id": "rSaFhDfHgTiU",
        "outputId": "2a8960c4-0123-4b6b-de21-e3d3a434d00c"
      },
      "execution_count": null,
      "outputs": [
        {
          "output_type": "stream",
          "name": "stdout",
          "text": [
            "id                34496\n",
            "action                0\n",
            "action_type           0\n",
            "action_detail         0\n",
            "device_type           0\n",
            "secs_elapsed     136031\n",
            "dtype: int64\n"
          ]
        }
      ]
    },
    {
      "cell_type": "markdown",
      "source": [
        "* #### 3.2.4 For 'train_user_2.csv' and 'test_user.csv': #### "
      ],
      "metadata": {
        "id": "U5bkDkzniQD-"
      }
    },
    {
      "cell_type": "code",
      "source": [
        "# Show datasets\n",
        "print(df_train.sample())\n",
        "print('.........................................................................')\n",
        "print(df_test.sample())"
      ],
      "metadata": {
        "colab": {
          "base_uri": "https://localhost:8080/"
        },
        "id": "dld0pd-eiWwr",
        "outputId": "8d0a94a0-cd74-4672-ad90-1515e9935cd9"
      },
      "execution_count": null,
      "outputs": [
        {
          "output_type": "stream",
          "name": "stdout",
          "text": [
            "               id date_account_created  timestamp_first_active  \\\n",
            "40358  dvg5bh3pkt           2012-09-10          20120910212004   \n",
            "\n",
            "      date_first_booking  gender   age signup_method  signup_flow language  \\\n",
            "40358                NaN  FEMALE  36.0      facebook            0       en   \n",
            "\n",
            "      affiliate_channel affiliate_provider first_affiliate_tracked signup_app  \\\n",
            "40358            direct             direct               untracked        Web   \n",
            "\n",
            "      first_device_type first_browser country_destination  \n",
            "40358       Mac Desktop        Safari                 NDF  \n",
            ".........................................................................\n",
            "               id date_account_created  timestamp_first_active  \\\n",
            "43314  bcell3b0g1           2014-08-31          20140831235045   \n",
            "\n",
            "       date_first_booking     gender  age signup_method  signup_flow language  \\\n",
            "43314                 NaN  -unknown-  NaN         basic           25       en   \n",
            "\n",
            "      affiliate_channel affiliate_provider first_affiliate_tracked signup_app  \\\n",
            "43314            direct             direct               untracked        iOS   \n",
            "\n",
            "      first_device_type  first_browser  \n",
            "43314            iPhone  Mobile Safari  \n"
          ]
        }
      ]
    },
    {
      "cell_type": "code",
      "source": [
        "# Check Data Dimensions\n",
        "print('Number of rows and columns for training dataset are: {}'.format(df_train.shape))\n",
        "print('Number of rows and columns for test dataset are: {}'.format(df_test.shape))\n"
      ],
      "metadata": {
        "colab": {
          "base_uri": "https://localhost:8080/"
        },
        "id": "dCbUdLWMir4C",
        "outputId": "d8cf59b0-229e-474a-a8f9-774e95b158a5"
      },
      "execution_count": null,
      "outputs": [
        {
          "output_type": "stream",
          "name": "stdout",
          "text": [
            "Number of rows and columns for training dataset are: (213451, 16)\n",
            "Number of rows and columns for test dataset are: (62096, 15)\n"
          ]
        }
      ]
    },
    {
      "cell_type": "markdown",
      "source": [
        "**Comment**: The above dimension info indicated that training dataset had one more variable named 'country_destination' than test dataset, which was the target column."
      ],
      "metadata": {
        "id": "fwh_k2uen5QJ"
      }
    },
    {
      "cell_type": "code",
      "source": [
        "# Check Data Type\n",
        "print(df_train.info())\n",
        "print(df_test.info())"
      ],
      "metadata": {
        "colab": {
          "base_uri": "https://localhost:8080/"
        },
        "id": "vk--WWeQn58g",
        "outputId": "76a2fe4e-2a39-4533-aa54-c0b48e7f738f"
      },
      "execution_count": null,
      "outputs": [
        {
          "output_type": "stream",
          "name": "stdout",
          "text": [
            "<class 'pandas.core.frame.DataFrame'>\n",
            "RangeIndex: 213451 entries, 0 to 213450\n",
            "Data columns (total 16 columns):\n",
            " #   Column                   Non-Null Count   Dtype  \n",
            "---  ------                   --------------   -----  \n",
            " 0   id                       213451 non-null  object \n",
            " 1   date_account_created     213451 non-null  object \n",
            " 2   timestamp_first_active   213451 non-null  int64  \n",
            " 3   date_first_booking       88908 non-null   object \n",
            " 4   gender                   213451 non-null  object \n",
            " 5   age                      125461 non-null  float64\n",
            " 6   signup_method            213451 non-null  object \n",
            " 7   signup_flow              213451 non-null  int64  \n",
            " 8   language                 213451 non-null  object \n",
            " 9   affiliate_channel        213451 non-null  object \n",
            " 10  affiliate_provider       213451 non-null  object \n",
            " 11  first_affiliate_tracked  207386 non-null  object \n",
            " 12  signup_app               213451 non-null  object \n",
            " 13  first_device_type        213451 non-null  object \n",
            " 14  first_browser            213451 non-null  object \n",
            " 15  country_destination      213451 non-null  object \n",
            "dtypes: float64(1), int64(2), object(13)\n",
            "memory usage: 26.1+ MB\n",
            "None\n",
            "<class 'pandas.core.frame.DataFrame'>\n",
            "RangeIndex: 62096 entries, 0 to 62095\n",
            "Data columns (total 15 columns):\n",
            " #   Column                   Non-Null Count  Dtype  \n",
            "---  ------                   --------------  -----  \n",
            " 0   id                       62096 non-null  object \n",
            " 1   date_account_created     62096 non-null  object \n",
            " 2   timestamp_first_active   62096 non-null  int64  \n",
            " 3   date_first_booking       0 non-null      float64\n",
            " 4   gender                   62096 non-null  object \n",
            " 5   age                      33220 non-null  float64\n",
            " 6   signup_method            62096 non-null  object \n",
            " 7   signup_flow              62096 non-null  int64  \n",
            " 8   language                 62096 non-null  object \n",
            " 9   affiliate_channel        62096 non-null  object \n",
            " 10  affiliate_provider       62096 non-null  object \n",
            " 11  first_affiliate_tracked  62076 non-null  object \n",
            " 12  signup_app               62096 non-null  object \n",
            " 13  first_device_type        62096 non-null  object \n",
            " 14  first_browser            62096 non-null  object \n",
            "dtypes: float64(2), int64(2), object(11)\n",
            "memory usage: 7.1+ MB\n",
            "None\n"
          ]
        }
      ]
    },
    {
      "cell_type": "code",
      "source": [
        "# Count the number of each dtype\n",
        "print('For training dataset:\\n', df_train.dtypes.value_counts())\n",
        "print('For test dataset:\\n',df_test.dtypes.value_counts())"
      ],
      "metadata": {
        "colab": {
          "base_uri": "https://localhost:8080/"
        },
        "id": "BLxvvVkfpJi9",
        "outputId": "e7dd3e32-8f8b-4b9e-a97d-e0573fa7c6a2"
      },
      "execution_count": null,
      "outputs": [
        {
          "output_type": "stream",
          "name": "stdout",
          "text": [
            "For training dataset:\n",
            " object     13\n",
            "int64       2\n",
            "float64     1\n",
            "dtype: int64\n",
            "For test dataset:\n",
            " object     11\n",
            "int64       2\n",
            "float64     2\n",
            "dtype: int64\n"
          ]
        }
      ]
    },
    {
      "cell_type": "code",
      "source": [
        "# Check the missing value\n",
        "print('For training dataset:\\n', df_train.isnull().sum())\n",
        "print('For test dataset:\\n', df_test.isnull().sum())"
      ],
      "metadata": {
        "colab": {
          "base_uri": "https://localhost:8080/"
        },
        "id": "pd9k3iv0pjT_",
        "outputId": "0b72ac86-e381-4c65-ffa3-f6bc4a973652"
      },
      "execution_count": null,
      "outputs": [
        {
          "output_type": "stream",
          "name": "stdout",
          "text": [
            "For training dataset:\n",
            " id                              0\n",
            "date_account_created            0\n",
            "timestamp_first_active          0\n",
            "date_first_booking         124543\n",
            "gender                          0\n",
            "age                         87990\n",
            "signup_method                   0\n",
            "signup_flow                     0\n",
            "language                        0\n",
            "affiliate_channel               0\n",
            "affiliate_provider              0\n",
            "first_affiliate_tracked      6065\n",
            "signup_app                      0\n",
            "first_device_type               0\n",
            "first_browser                   0\n",
            "country_destination             0\n",
            "dtype: int64\n",
            "For test dataset:\n",
            " id                             0\n",
            "date_account_created           0\n",
            "timestamp_first_active         0\n",
            "date_first_booking         62096\n",
            "gender                         0\n",
            "age                        28876\n",
            "signup_method                  0\n",
            "signup_flow                    0\n",
            "language                       0\n",
            "affiliate_channel              0\n",
            "affiliate_provider             0\n",
            "first_affiliate_tracked       20\n",
            "signup_app                     0\n",
            "first_device_type              0\n",
            "first_browser                  0\n",
            "dtype: int64\n"
          ]
        }
      ]
    },
    {
      "cell_type": "markdown",
      "source": [
        "As significant missing values existed in 'date_first_booking' of both datasets, this feature should be removed."
      ],
      "metadata": {
        "id": "pINGuOtCqfwS"
      }
    },
    {
      "cell_type": "markdown",
      "source": [
        "  * *3.2.4.1 'date_account_created'*"
      ],
      "metadata": {
        "id": "q57IJd504qw9"
      }
    },
    {
      "cell_type": "code",
      "source": [
        "# Value_counts for 'date_account_created'\n",
        "print('For df_train.date_account_created: \\n', df_train.date_account_created.value_counts())\n",
        "print('For df_test.date_account_created: \\n', df_test.date_account_created.value_counts())"
      ],
      "metadata": {
        "colab": {
          "base_uri": "https://localhost:8080/"
        },
        "id": "4opLJecx3QbP",
        "outputId": "0e0e6950-fbd5-48de-8450-c030b446e57a"
      },
      "execution_count": null,
      "outputs": [
        {
          "output_type": "stream",
          "name": "stdout",
          "text": [
            "For df_train.date_account_created: \n",
            " 2014-05-13    674\n",
            "2014-06-24    670\n",
            "2014-06-25    636\n",
            "2014-05-20    632\n",
            "2014-05-14    622\n",
            "             ... \n",
            "2010-03-09      1\n",
            "2010-01-28      1\n",
            "2010-01-31      1\n",
            "2010-04-11      1\n",
            "2010-06-18      1\n",
            "Name: date_account_created, Length: 1634, dtype: int64\n",
            "For df_test.date_account_created: \n",
            " 2014-07-23    1105\n",
            "2014-07-22    1052\n",
            "2014-07-17     978\n",
            "2014-07-24     923\n",
            "2014-07-18     892\n",
            "              ... \n",
            "2014-07-06     475\n",
            "2014-07-12     472\n",
            "2014-07-04     445\n",
            "2014-07-05     421\n",
            "2014-07-13     401\n",
            "Name: date_account_created, Length: 92, dtype: int64\n"
          ]
        }
      ]
    },
    {
      "cell_type": "code",
      "source": [
        "# Descriptive Statistics for 'date_account_created'\n",
        "print('For df_train.date_account_created: \\n', df_train.date_account_created.describe())\n",
        "print('For df_test.date_account_created: \\n', df_test.date_account_created.describe())"
      ],
      "metadata": {
        "colab": {
          "base_uri": "https://localhost:8080/"
        },
        "id": "c-y1nZcz30vS",
        "outputId": "b61a98ec-1804-4532-ccbc-75a3afb9e753"
      },
      "execution_count": null,
      "outputs": [
        {
          "output_type": "stream",
          "name": "stdout",
          "text": [
            "For df_train.date_account_created: \n",
            " count         213451\n",
            "unique          1634\n",
            "top       2014-05-13\n",
            "freq             674\n",
            "Name: date_account_created, dtype: object\n",
            "For df_test.date_account_created: \n",
            " count          62096\n",
            "unique            92\n",
            "top       2014-07-23\n",
            "freq            1105\n",
            "Name: date_account_created, dtype: object\n"
          ]
        }
      ]
    },
    {
      "cell_type": "markdown",
      "source": [
        "  * *3.2.4.2 'timestamp_first_active'* "
      ],
      "metadata": {
        "id": "g5MkTnqD5O5T"
      }
    },
    {
      "cell_type": "code",
      "source": [
        "# Check for duplicate value for 'timestamp_first_active'\n",
        "print('For df_train.timestamp_first_active: \\n', df_train.timestamp_first_active.value_counts().unique())\n",
        "print('For df_test.timestamp_first_active: \\n', df_test.timestamp_first_active.value_counts().unique())"
      ],
      "metadata": {
        "colab": {
          "base_uri": "https://localhost:8080/"
        },
        "id": "bWvwgwQ05b5O",
        "outputId": "f6dcadfc-d715-4999-9701-f862c9e67443"
      },
      "execution_count": null,
      "outputs": [
        {
          "output_type": "stream",
          "name": "stdout",
          "text": [
            "For df_train.timestamp_first_active: \n",
            " [1]\n",
            "For df_test.timestamp_first_active: \n",
            " [1]\n"
          ]
        }
      ]
    },
    {
      "cell_type": "markdown",
      "source": [
        "**Comment**: There waw no duplicate value in 'timestamp_first_active' column of two datasets."
      ],
      "metadata": {
        "id": "UOfpAjtq5wQ0"
      }
    },
    {
      "cell_type": "code",
      "source": [
        "# Descriptive Statistics for 'timestamp_first_active'\n",
        "\n",
        "# Break down the timestamp to datetime\n",
        "tfa_train_dt = df_train.timestamp_first_active.astype(str).apply(lambda x:  \n",
        "                                                                    datetime.datetime(int(x[:4]),\n",
        "                                                                                      int(x[4:6]), \n",
        "                                                                                      int(x[6:8]), \n",
        "                                                                                      int(x[8:10]), \n",
        "                                                                                      int(x[10:12]),\n",
        "                                                                                      int(x[12:])))\n",
        "tfa_test_dt = df_test.timestamp_first_active.astype(str).apply(lambda x:  \n",
        "                                                                    datetime.datetime(int(x[:4]),\n",
        "                                                                                      int(x[4:6]), \n",
        "                                                                                      int(x[6:8]), \n",
        "                                                                                      int(x[8:10]), \n",
        "                                                                                      int(x[10:12]),\n",
        "                                                                                      int(x[12:])))\n",
        "# Descirptive Statistics\n",
        "print('For df_train.timestamp_first_active: \\n', tfa_train_dt.describe())\n",
        "print('For df_test.timestamp_first_active: \\n', tfa_test_dt.describe())"
      ],
      "metadata": {
        "colab": {
          "base_uri": "https://localhost:8080/"
        },
        "id": "Nt_76nywqCSV",
        "outputId": "26043f04-ca85-4dd4-9023-1dde53f94ab6"
      },
      "execution_count": null,
      "outputs": [
        {
          "output_type": "stream",
          "name": "stdout",
          "text": [
            "For df_train.timestamp_first_active: \n",
            " count                  213451\n",
            "unique                 213451\n",
            "top       2009-03-19 04:32:55\n",
            "freq                        1\n",
            "first     2009-03-19 04:32:55\n",
            "last      2014-06-30 23:58:24\n",
            "Name: timestamp_first_active, dtype: object\n",
            "For df_test.timestamp_first_active: \n",
            " count                   62096\n",
            "unique                  62096\n",
            "top       2014-07-01 00:00:06\n",
            "freq                        1\n",
            "first     2014-07-01 00:00:06\n",
            "last      2014-09-30 23:59:01\n",
            "Name: timestamp_first_active, dtype: object\n"
          ]
        },
        {
          "output_type": "stream",
          "name": "stderr",
          "text": [
            "/usr/local/lib/python3.7/dist-packages/ipykernel_launcher.py:19: FutureWarning: Treating datetime data as categorical rather than numeric in `.describe` is deprecated and will be removed in a future version of pandas. Specify `datetime_is_numeric=True` to silence this warning and adopt the future behavior now.\n",
            "/usr/local/lib/python3.7/dist-packages/ipykernel_launcher.py:20: FutureWarning: Treating datetime data as categorical rather than numeric in `.describe` is deprecated and will be removed in a future version of pandas. Specify `datetime_is_numeric=True` to silence this warning and adopt the future behavior now.\n"
          ]
        }
      ]
    },
    {
      "cell_type": "markdown",
      "source": [
        "  * *3.2.4.3 'age'* "
      ],
      "metadata": {
        "id": "TAb-7_uaAJbj"
      }
    },
    {
      "cell_type": "code",
      "source": [
        "# Value Counts for 'age' column\n",
        "print('For df_train.age: \\n', df_train.age.value_counts())\n",
        "print('For df_test.age: \\n', df_test.age.value_counts())"
      ],
      "metadata": {
        "colab": {
          "base_uri": "https://localhost:8080/"
        },
        "id": "LZ-E7pV1AQKI",
        "outputId": "29ceea67-06c2-4111-903e-fd9fcb63739a"
      },
      "execution_count": null,
      "outputs": [
        {
          "output_type": "stream",
          "name": "stdout",
          "text": [
            "For df_train.age: \n",
            " 30.0      6124\n",
            "31.0      6016\n",
            "29.0      5963\n",
            "28.0      5939\n",
            "32.0      5855\n",
            "          ... \n",
            "1925.0       1\n",
            "1935.0       1\n",
            "1933.0       1\n",
            "112.0        1\n",
            "1926.0       1\n",
            "Name: age, Length: 127, dtype: int64\n",
            "For df_test.age: \n",
            " 28.0      1748\n",
            "27.0      1724\n",
            "26.0      1701\n",
            "25.0      1690\n",
            "29.0      1684\n",
            "          ... \n",
            "1945.0       1\n",
            "2000.0       1\n",
            "1938.0       1\n",
            "1939.0       1\n",
            "108.0        1\n",
            "Name: age, Length: 124, dtype: int64\n"
          ]
        }
      ]
    },
    {
      "cell_type": "markdown",
      "source": [
        "**Comment**: The majority of users in the training dataset was at the age of 30 while the one in the testing dataset was around 28. Significant unusual values could be observed in both datasets, requiring the additional effort."
      ],
      "metadata": {
        "id": "KfZlQVQaAt6f"
      }
    },
    {
      "cell_type": "markdown",
      "source": [
        "  * *3.2.4.4 'country_destination'* "
      ],
      "metadata": {
        "id": "6B3rX82VHLed"
      }
    },
    {
      "cell_type": "code",
      "source": [
        "# Value Counts for 'country_destination' column\n",
        "print('For df_train.country_destination: \\n', df_train.country_destination.value_counts())"
      ],
      "metadata": {
        "colab": {
          "base_uri": "https://localhost:8080/"
        },
        "id": "uhvzjcNiHK_A",
        "outputId": "fac61cde-6484-42d8-d8d6-fb2e2dffa083"
      },
      "execution_count": null,
      "outputs": [
        {
          "output_type": "stream",
          "name": "stdout",
          "text": [
            "For df_train.country_destination: \n",
            " NDF      124543\n",
            "US        62376\n",
            "other     10094\n",
            "FR         5023\n",
            "IT         2835\n",
            "GB         2324\n",
            "ES         2249\n",
            "CA         1428\n",
            "DE         1061\n",
            "NL          762\n",
            "AU          539\n",
            "PT          217\n",
            "Name: country_destination, dtype: int64\n"
          ]
        }
      ]
    },
    {
      "cell_type": "markdown",
      "source": [
        "### 3.3 Exploratory Data Analysis ###"
      ],
      "metadata": {
        "id": "QQ_LXUSprLJf"
      }
    },
    {
      "cell_type": "markdown",
      "source": [
        "As the above statistics provided the limited info at this state, let's visualize the data to obtain more insights. "
      ],
      "metadata": {
        "id": "F687rs9arhgd"
      }
    },
    {
      "cell_type": "markdown",
      "source": [
        "* #### 3.3.1 User Growth Trend ('date_account_created') ####"
      ],
      "metadata": {
        "id": "wtVcSfIWsO0a"
      }
    },
    {
      "cell_type": "code",
      "source": [
        "# value counts of data account created columns\n",
        "dac_train = df_train.date_account_created.value_counts()\n",
        "dac_test = df_test.date_account_created.value_counts()\n",
        "\n",
        "# Convert to datetime type\n",
        "dac_train_date = pd.to_datetime(df_train.date_account_created.value_counts().index)\n",
        "dac_test_date = pd.to_datetime(df_test.date_account_created.value_counts().index)\n",
        "\n",
        "# Substract the first account creation date from the user creation date\n",
        "dac_train_day = dac_train_date - dac_train_date.min()\n",
        "dac_test_day = dac_test_date - dac_train_date.min()\n",
        "\n",
        "# Scatter plot for user growth trend\n",
        "plt.figure(figsize=(8, 4))\n",
        "plt.rc('font', size=10)\n",
        "plt.rc('axes', titlesize=14)\n",
        "plt.rc('axes', labelsize=12)\n",
        "plt.rc('xtick', labelsize=10)    # fontsize of the tick labels\n",
        "plt.rc('ytick', labelsize=10)    # fontsize of the tick labels\n",
        "plt.rc('legend', fontsize=10) \n",
        "plt.scatter(dac_train_day.days, dac_train.values, color = 'r', label = 'train dataset')\n",
        "plt.scatter(dac_test_day.days, dac_test.values, color = 'b', label = 'test dataset')\n",
        "plt.title(\"Accounts Created vs Day\")\n",
        "plt.xlabel(\"Days\")\n",
        "plt.ylabel(\"Account Created\")\n",
        "plt.legend(loc = 'upper left')"
      ],
      "metadata": {
        "colab": {
          "base_uri": "https://localhost:8080/",
          "height": 317
        },
        "id": "Uf763Bx_rUpt",
        "outputId": "8e186db1-c8b2-441d-b59a-976e197dd1ed"
      },
      "execution_count": null,
      "outputs": [
        {
          "output_type": "execute_result",
          "data": {
            "text/plain": [
              "<matplotlib.legend.Legend at 0x7f9c9465fa10>"
            ]
          },
          "metadata": {},
          "execution_count": 25
        },
        {
          "output_type": "display_data",
          "data": {
            "text/plain": [
              "<Figure size 576x288 with 1 Axes>"
            ],
            "image/png": "[encoded data removed]"
          },
          "metadata": {
            "needs_background": "light"
          }
        }
      ]
    },
    {
      "cell_type": "markdown",
      "source": [
        "**Comment**: The above figure showed that a dramatic increasing trend in the new user account creation as time passed, especially for the test dataset."
      ],
      "metadata": {
        "id": "Nx01vKpF1Qvc"
      }
    },
    {
      "cell_type": "markdown",
      "source": [
        "* #### 3.3.2 Univariate Analysis ####"
      ],
      "metadata": {
        "id": "6SfIhm3JQKfY"
      }
    },
    {
      "cell_type": "code",
      "source": [
        "# Define the function to obtain the plot for the categorical data\n",
        "def feature_barplot(feature, df_train, df_test, figsize=(10,5), rot = 90, saveimg = False): \n",
        "    feat_train = df_train[feature].value_counts()\n",
        "    feat_test = df_test[feature].value_counts()\n",
        "    fig_feature, (axis1,axis2) = plt.subplots(1,2,sharex=True, sharey = True, figsize = figsize)\n",
        "    sns.barplot(feat_train.index.values, feat_train.values, ax = axis1)\n",
        "    sns.barplot(feat_test.index.values, feat_test.values, ax = axis2)\n",
        "    axis1.set_xticklabels(axis1.xaxis.get_majorticklabels(), rotation = rot)\n",
        "    axis2.set_xticklabels(axis1.xaxis.get_majorticklabels(), rotation = rot)\n",
        "    axis1.set_title(feature + ' of training dataset')\n",
        "    axis2.set_title(feature + ' of test dataset')\n",
        "    axis1.set_ylabel('Counts')\n",
        "    plt.tight_layout()"
      ],
      "metadata": {
        "id": "xpfjI25dNXbD"
      },
      "execution_count": null,
      "outputs": []
    },
    {
      "cell_type": "code",
      "source": [
        "# 'gender'\n",
        "feature_barplot('gender', df_train, df_test)"
      ],
      "metadata": {
        "colab": {
          "base_uri": "https://localhost:8080/",
          "height": 460
        },
        "id": "JQY7MvaGNn4G",
        "outputId": "4fc2a768-8c11-4649-f415-dee516b16d0e"
      },
      "execution_count": null,
      "outputs": [
        {
          "output_type": "stream",
          "name": "stderr",
          "text": [
            "/usr/local/lib/python3.7/dist-packages/seaborn/_decorators.py:43: FutureWarning: Pass the following variables as keyword args: x, y. From version 0.12, the only valid positional argument will be `data`, and passing other arguments without an explicit keyword will result in an error or misinterpretation.\n",
            "  FutureWarning\n",
            "/usr/local/lib/python3.7/dist-packages/seaborn/_decorators.py:43: FutureWarning: Pass the following variables as keyword args: x, y. From version 0.12, the only valid positional argument will be `data`, and passing other arguments without an explicit keyword will result in an error or misinterpretation.\n",
            "  FutureWarning\n"
          ]
        },
        {
          "output_type": "display_data",
          "data": {
            "text/plain": [
              "<Figure size 720x360 with 2 Axes>"
            ],
            "image/png": "[encoded data removed]"
          },
          "metadata": {
            "needs_background": "light"
          }
        }
      ]
    },
    {
      "cell_type": "code",
      "source": [
        "# 'language'\n",
        "feature_barplot('language', df_train, df_test)"
      ],
      "metadata": {
        "colab": {
          "base_uri": "https://localhost:8080/",
          "height": 460
        },
        "id": "rZW4JZ5kOq4e",
        "outputId": "1d30a622-665b-498d-c5a8-855824648aae"
      },
      "execution_count": null,
      "outputs": [
        {
          "output_type": "stream",
          "name": "stderr",
          "text": [
            "/usr/local/lib/python3.7/dist-packages/seaborn/_decorators.py:43: FutureWarning: Pass the following variables as keyword args: x, y. From version 0.12, the only valid positional argument will be `data`, and passing other arguments without an explicit keyword will result in an error or misinterpretation.\n",
            "  FutureWarning\n",
            "/usr/local/lib/python3.7/dist-packages/seaborn/_decorators.py:43: FutureWarning: Pass the following variables as keyword args: x, y. From version 0.12, the only valid positional argument will be `data`, and passing other arguments without an explicit keyword will result in an error or misinterpretation.\n",
            "  FutureWarning\n"
          ]
        },
        {
          "output_type": "display_data",
          "data": {
            "text/plain": [
              "<Figure size 720x360 with 2 Axes>"
            ],
            "image/png": "[encoded data removed]"
          },
          "metadata": {
            "needs_background": "light"
          }
        }
      ]
    },
    {
      "cell_type": "code",
      "source": [
        "# 'affiliate_channel'\n",
        "feature_barplot('affiliate_channel', df_train, df_test)"
      ],
      "metadata": {
        "colab": {
          "base_uri": "https://localhost:8080/",
          "height": 460
        },
        "id": "AamsBDj8OzdE",
        "outputId": "4ccb24d7-a43c-466e-f73d-2e49ff98d259"
      },
      "execution_count": null,
      "outputs": [
        {
          "output_type": "stream",
          "name": "stderr",
          "text": [
            "/usr/local/lib/python3.7/dist-packages/seaborn/_decorators.py:43: FutureWarning: Pass the following variables as keyword args: x, y. From version 0.12, the only valid positional argument will be `data`, and passing other arguments without an explicit keyword will result in an error or misinterpretation.\n",
            "  FutureWarning\n",
            "/usr/local/lib/python3.7/dist-packages/seaborn/_decorators.py:43: FutureWarning: Pass the following variables as keyword args: x, y. From version 0.12, the only valid positional argument will be `data`, and passing other arguments without an explicit keyword will result in an error or misinterpretation.\n",
            "  FutureWarning\n"
          ]
        },
        {
          "output_type": "display_data",
          "data": {
            "text/plain": [
              "<Figure size 720x360 with 2 Axes>"
            ],
            "image/png": "[encoded data removed]"
          },
          "metadata": {
            "needs_background": "light"
          }
        }
      ]
    },
    {
      "cell_type": "code",
      "source": [
        "# 'first_affiliate_tracked'\n",
        "feature_barplot('first_affiliate_tracked', df_train, df_test)"
      ],
      "metadata": {
        "colab": {
          "base_uri": "https://localhost:8080/",
          "height": 460
        },
        "id": "mWU65GbrPHBl",
        "outputId": "4f087935-64ba-4d1c-afc7-4a8b573f0a67"
      },
      "execution_count": null,
      "outputs": [
        {
          "output_type": "stream",
          "name": "stderr",
          "text": [
            "/usr/local/lib/python3.7/dist-packages/seaborn/_decorators.py:43: FutureWarning: Pass the following variables as keyword args: x, y. From version 0.12, the only valid positional argument will be `data`, and passing other arguments without an explicit keyword will result in an error or misinterpretation.\n",
            "  FutureWarning\n",
            "/usr/local/lib/python3.7/dist-packages/seaborn/_decorators.py:43: FutureWarning: Pass the following variables as keyword args: x, y. From version 0.12, the only valid positional argument will be `data`, and passing other arguments without an explicit keyword will result in an error or misinterpretation.\n",
            "  FutureWarning\n"
          ]
        },
        {
          "output_type": "display_data",
          "data": {
            "text/plain": [
              "<Figure size 720x360 with 2 Axes>"
            ],
            "image/png": "[encoded data removed]"
          },
          "metadata": {
            "needs_background": "light"
          }
        }
      ]
    },
    {
      "cell_type": "code",
      "source": [
        "# 'signup_app'\n",
        "feature_barplot('signup_app', df_train, df_test)"
      ],
      "metadata": {
        "colab": {
          "base_uri": "https://localhost:8080/",
          "height": 460
        },
        "id": "ZqWAClVwPMm-",
        "outputId": "8113494f-38a8-4068-ee34-4e2f06568b7e"
      },
      "execution_count": null,
      "outputs": [
        {
          "output_type": "stream",
          "name": "stderr",
          "text": [
            "/usr/local/lib/python3.7/dist-packages/seaborn/_decorators.py:43: FutureWarning: Pass the following variables as keyword args: x, y. From version 0.12, the only valid positional argument will be `data`, and passing other arguments without an explicit keyword will result in an error or misinterpretation.\n",
            "  FutureWarning\n",
            "/usr/local/lib/python3.7/dist-packages/seaborn/_decorators.py:43: FutureWarning: Pass the following variables as keyword args: x, y. From version 0.12, the only valid positional argument will be `data`, and passing other arguments without an explicit keyword will result in an error or misinterpretation.\n",
            "  FutureWarning\n"
          ]
        },
        {
          "output_type": "display_data",
          "data": {
            "text/plain": [
              "<Figure size 720x360 with 2 Axes>"
            ],
            "image/png": "[encoded data removed]"
          },
          "metadata": {
            "needs_background": "light"
          }
        }
      ]
    },
    {
      "cell_type": "code",
      "source": [
        "# 'first_device_type'\n",
        "feature_barplot('first_device_type', df_train, df_test)"
      ],
      "metadata": {
        "colab": {
          "base_uri": "https://localhost:8080/",
          "height": 460
        },
        "id": "S4uKCzLNPUdi",
        "outputId": "8e9b0c22-6301-4fb3-ca9e-7d7cb80a65ce"
      },
      "execution_count": null,
      "outputs": [
        {
          "output_type": "stream",
          "name": "stderr",
          "text": [
            "/usr/local/lib/python3.7/dist-packages/seaborn/_decorators.py:43: FutureWarning: Pass the following variables as keyword args: x, y. From version 0.12, the only valid positional argument will be `data`, and passing other arguments without an explicit keyword will result in an error or misinterpretation.\n",
            "  FutureWarning\n",
            "/usr/local/lib/python3.7/dist-packages/seaborn/_decorators.py:43: FutureWarning: Pass the following variables as keyword args: x, y. From version 0.12, the only valid positional argument will be `data`, and passing other arguments without an explicit keyword will result in an error or misinterpretation.\n",
            "  FutureWarning\n"
          ]
        },
        {
          "output_type": "display_data",
          "data": {
            "text/plain": [
              "<Figure size 720x360 with 2 Axes>"
            ],
            "image/png": "[encoded data removed]"
          },
          "metadata": {
            "needs_background": "light"
          }
        }
      ]
    },
    {
      "cell_type": "code",
      "source": [
        "# 'first_browser'\n",
        "feature_barplot('first_browser', df_train, df_test)"
      ],
      "metadata": {
        "colab": {
          "base_uri": "https://localhost:8080/",
          "height": 460
        },
        "id": "aXkWIEe8PYID",
        "outputId": "f0cec880-76b0-4e48-f774-ec7df202d19a"
      },
      "execution_count": null,
      "outputs": [
        {
          "output_type": "stream",
          "name": "stderr",
          "text": [
            "/usr/local/lib/python3.7/dist-packages/seaborn/_decorators.py:43: FutureWarning: Pass the following variables as keyword args: x, y. From version 0.12, the only valid positional argument will be `data`, and passing other arguments without an explicit keyword will result in an error or misinterpretation.\n",
            "  FutureWarning\n",
            "/usr/local/lib/python3.7/dist-packages/seaborn/_decorators.py:43: FutureWarning: Pass the following variables as keyword args: x, y. From version 0.12, the only valid positional argument will be `data`, and passing other arguments without an explicit keyword will result in an error or misinterpretation.\n",
            "  FutureWarning\n"
          ]
        },
        {
          "output_type": "display_data",
          "data": {
            "text/plain": [
              "<Figure size 720x360 with 2 Axes>"
            ],
            "image/png": "[encoded data removed]"
          },
          "metadata": {
            "needs_background": "light"
          }
        }
      ]
    },
    {
      "cell_type": "code",
      "source": [
        "# Histogram for 'signup_flow'\n",
        "fig, axs = plt.subplots(1, 2, sharey=True, tight_layout=True, figsize = (10,5))\n",
        "axs[0].hist(df_train['signup_flow'], bins=30)\n",
        "axs[1].hist(df_test['signup_flow'], bins=30)\n",
        "axs[0].set_title('signup_flow of training dataset')\n",
        "axs[1].set_title('signup_flow of test dataset')\n",
        "axs[0].set_ylabel('Counts')\n",
        "plt.tight_layout()"
      ],
      "metadata": {
        "colab": {
          "base_uri": "https://localhost:8080/",
          "height": 369
        },
        "id": "ZwQrFnmZS_X2",
        "outputId": "6e8c4fd7-ba9b-49e0-f2f3-a82d4ab3a004"
      },
      "execution_count": null,
      "outputs": [
        {
          "output_type": "display_data",
          "data": {
            "text/plain": [
              "<Figure size 720x360 with 2 Axes>"
            ],
            "image/png": "[encoded data removed]"
          },
          "metadata": {
            "needs_background": "light"
          }
        }
      ]
    },
    {
      "cell_type": "markdown",
      "source": [
        "* #### 3.3.2 Gender Distribution ('age') ####"
      ],
      "metadata": {
        "id": "8EjW8NtYEDG1"
      }
    },
    {
      "cell_type": "markdown",
      "source": [
        "* #### 3.3.2 User Age Distribution ('age') ####"
      ],
      "metadata": {
        "id": "hbqLDBq725kj"
      }
    },
    {
      "cell_type": "markdown",
      "source": [
        "### 3.4 Feature Engineering ###"
      ],
      "metadata": {
        "id": "DVe1cfCvUn11"
      }
    },
    {
      "cell_type": "markdown",
      "source": [
        "* #### 3.4.1 'sessions.csv' ####"
      ],
      "metadata": {
        "id": "RAX6Ul7fUrMF"
      }
    },
    {
      "cell_type": "code",
      "source": [
        "# Value Counts of User Actions\n",
        "sessions.action.value_counts()"
      ],
      "metadata": {
        "colab": {
          "base_uri": "https://localhost:8080/"
        },
        "id": "gpkl1Z0KtlUE",
        "outputId": "d3312791-a7ac-47ce-83d2-9fd21e16fb7c"
      },
      "execution_count": null,
      "outputs": [
        {
          "output_type": "execute_result",
          "data": {
            "text/plain": [
              "show              2768278\n",
              "index              843699\n",
              "search_results     725226\n",
              "personalize        706824\n",
              "search             536057\n",
              "                   ...   \n",
              "deauthorize             1\n",
              "events                  1\n",
              "reactivate              1\n",
              "desks                   1\n",
              "nyan                    1\n",
              "Name: action, Length: 360, dtype: int64"
            ]
          },
          "metadata": {},
          "execution_count": 35
        }
      ]
    },
    {
      "cell_type": "markdown",
      "source": [
        "**Comment**: The above results indicated that several actions were only occured once in the dataset. To simplify the dataset, let's replace the action values with frequency less than 100 with 'other'."
      ],
      "metadata": {
        "id": "tmNgHPHgWShm"
      }
    },
    {
      "cell_type": "code",
      "source": [
        "# Replace 'Action' values with low frequency with 'other'\n",
        "act_freq = 100  # threshold of frequency\n",
        "act = dict(zip(*np.unique(sessions.action, return_counts=True)))\n",
        "sessions.action = sessions.action.apply(lambda x: 'OTHER' if act[x] < act_freq else x)"
      ],
      "metadata": {
        "id": "t_-KG82aVIGG"
      },
      "execution_count": null,
      "outputs": []
    },
    {
      "cell_type": "code",
      "source": [
        "# Action\n",
        "f_act = sessions.action.value_counts().argsort()\n",
        "f_act_detail = sessions.action_detail.value_counts().argsort()\n",
        "f_act_type = sessions.action_type.value_counts().argsort()\n",
        "f_dev_type = sessions.device_type.value_counts().argsort()\n",
        "\n",
        "# Groupby \n",
        "dgr_sess = sessions.groupby(['id'])\n",
        "\n",
        "# Loop on dgr_sess to create all the features\n",
        "samples = []\n",
        "ln = len(dgr_sess) # Calculate the length of df_sessions after groupby\n",
        "\n",
        "for g in dgr_sess: \n",
        "    gr = g[1]   # dataframe that comtains all the data for a groupby value 'zzywmcn0jv'\n",
        "    l = []  # empty list\n",
        "    l.append(g[0]) # fill the list with value\n",
        "    l.append(len(gr)) # number of total actions\n",
        "    sev = gr.secs_elapsed.fillna(0).values # fill the secs_elapsed with 0\n",
        "    \n",
        "    # action features \n",
        "    c_act = [0] * len(f_act)\n",
        "    for i,v in enumerate(gr.action.values): #i is the place of 0-1，v represents the value of action feature for users\n",
        "        c_act[f_act[v]] += 1\n",
        "    _, c_act_uqc = np.unique(gr.action.values, return_counts=True)\n",
        "    # Calculate the length, average and standard deviation\n",
        "    c_act += [len(c_act_uqc), np.mean(c_act_uqc), np.std(c_act_uqc)]\n",
        "    l = l + c_act\n",
        "    \n",
        "    #action_detail features\n",
        "    #(how many times each value occurs, numb of unique values, mean and std)\n",
        "    c_act_detail = [0] * len(f_act_detail)\n",
        "    for i,v in enumerate(gr.action_detail.values):\n",
        "        c_act_detail[f_act_detail[v]] += 1\n",
        "    _, c_act_det_uqc = np.unique(gr.action_detail.values, return_counts=True)\n",
        "    c_act_detail += [len(c_act_det_uqc), np.mean(c_act_det_uqc), np.std(c_act_det_uqc)]\n",
        "    l = l + c_act_detail\n",
        "    \n",
        "    #action_type features\n",
        "    #(how many times each value occurs, numb of unique values, mean and std\n",
        "    #+ log of the sum of secs_elapsed for each value)\n",
        "    l_act_type = [0] * len(f_act_type)\n",
        "    c_act_type = [0] * len(f_act_type)\n",
        "    for i,v in enumerate(gr.action_type.values):\n",
        "        l_act_type[f_act_type[v]] += sev[i] #sev = gr.secs_elapsed.fillna(0).values\n",
        "        c_act_type[f_act_type[v]] += 1  \n",
        "    l_act_type = np.log(1 + np.array(l_act_type)).tolist() #, calculate the time span of each action\n",
        "    _, c_act_type_uqc = np.unique(gr.action_type.values, return_counts=True)\n",
        "    c_act_type += [len(c_act_type_uqc), np.mean(c_act_type_uqc), np.std(c_act_type_uqc)]\n",
        "    l = l + c_act_type + l_act_type    \n",
        "    \n",
        "    #device_type features\n",
        "    #(how many times each value occurs, numb of unique values, mean and std)\n",
        "    c_dev_type  = [0] * len(f_dev_type)\n",
        "    for i,v in enumerate(gr.device_type .values):\n",
        "        c_dev_type[f_dev_type[v]] += 1 \n",
        "    c_dev_type.append(len(np.unique(gr.device_type.values))) \n",
        "    _, c_dev_type_uqc = np.unique(gr.device_type.values, return_counts=True)\n",
        "    c_dev_type += [len(c_dev_type_uqc), np.mean(c_dev_type_uqc), np.std(c_dev_type_uqc)]        \n",
        "    l = l + c_dev_type    \n",
        "    \n",
        "    #secs_elapsed features    \n",
        "    l_secs = [0] * 5 \n",
        "    l_log = [0] * 15\n",
        "    if len(sev) > 0:\n",
        "        #Simple statistics about the secs_elapsed values.\n",
        "        l_secs[0] = np.log(1 + np.sum(sev))\n",
        "        l_secs[1] = np.log(1 + np.mean(sev)) \n",
        "        l_secs[2] = np.log(1 + np.std(sev))\n",
        "        l_secs[3] = np.log(1 + np.median(sev))\n",
        "        l_secs[4] = l_secs[0] / float(l[1]) #\n",
        "        \n",
        "        #Values are grouped in 15 intervals. Compute the number of values\n",
        "        #in each interval.\n",
        "        #sev = gr.secs_elapsed.fillna(0).values \n",
        "        log_sev = np.log(1 + sev).astype(int)\n",
        "        #np.bincount():Count number of occurrences of each value in array of non-negative ints.  \n",
        "        l_log = np.bincount(log_sev, minlength=15).tolist()                    \n",
        "    l = l + l_secs + l_log\n",
        "    \n",
        "    #The list l has the feature values of one sample.\n",
        "    samples.append(l)\n",
        "\n",
        "# Preparing objects    \n",
        "samples = np.array(samples) \n",
        "samp_ar = samples[:, 1:].astype(np.float16) # extract the features except 'id'\n",
        "samp_id = samples[:, 0]   # extract 'id'\n",
        "\n",
        "# Create a new dataframe     \n",
        "col_names = []    #name of the columns\n",
        "for i in range(len(samples[0])-1):  #-1 is because of 'id'\n",
        "    col_names.append('c_' + str(i)) \n",
        "df_agg_sess = pd.DataFrame(samp_ar, columns=col_names)\n",
        "df_agg_sess['id'] = samp_id\n",
        "df_agg_sess.index = df_agg_sess.id # Set 'id' as index"
      ],
      "metadata": {
        "id": "hXfOTB3YXSOZ"
      },
      "execution_count": null,
      "outputs": []
    },
    {
      "cell_type": "code",
      "source": [
        "# Save file as csv\n",
        "df_agg_sess.to_csv('df_agg_sessions.csv')"
      ],
      "metadata": {
        "id": "1kp8sNOjHHxy"
      },
      "execution_count": null,
      "outputs": []
    },
    {
      "cell_type": "markdown",
      "source": [
        "* #### 3.4.2 'train_users_2.csv' and 'test_users.csv' ####"
      ],
      "metadata": {
        "id": "WUo7pXrIKWqM"
      }
    },
    {
      "cell_type": "code",
      "source": [
        "# Delete 'date_first_booking' and 'df_train.country_destination'\n",
        "df_train.drop(['country_destination', 'date_first_booking'], axis = 1, inplace = True)\n",
        "df_test.drop(['date_first_booking'], axis = 1, inplace = True)\n"
      ],
      "metadata": {
        "id": "k97qx4wWKpgR"
      },
      "execution_count": null,
      "outputs": []
    },
    {
      "cell_type": "code",
      "source": [
        "# Join training and test datasets\n",
        "df_users = pd.concat([df_train, df_test], axis = 0, ignore_index = True)"
      ],
      "metadata": {
        "id": "4pq49nyvK30W"
      },
      "execution_count": null,
      "outputs": []
    },
    {
      "cell_type": "markdown",
      "source": [
        "  * *3.4.2.1 'timestamp_first_active'*"
      ],
      "metadata": {
        "id": "YQZzA8GOLSFd"
      }
    },
    {
      "cell_type": "code",
      "source": [
        "# Convert data type to datetime type\n",
        "tfa = df_users.timestamp_first_active.astype(str).apply(lambda x: datetime.datetime(int(x[:4]),\n",
        "                                                                          int(x[4:6]), \n",
        "                                                                          int(x[6:8]),\n",
        "                                                                          int(x[8:10]),\n",
        "                                                                          int(x[10:12]),\n",
        "                                                                          int(x[12:])))\n",
        "\n",
        "# Extract 'year', 'month', 'day' feature from the datetime column\n",
        "df_users['tfa_year'] = np.array([x.year for x in tfa])\n",
        "df_users['tfa_month'] = np.array([x.month for x in tfa])\n",
        "df_users['tfa_day'] = np.array([x.day for x in tfa])\n",
        "df_users.sample()"
      ],
      "metadata": {
        "colab": {
          "base_uri": "https://localhost:8080/",
          "height": 162
        },
        "id": "WU27cTBHLRxH",
        "outputId": "532424a8-8505-4ff6-f352-6c6b8bf1f4d2"
      },
      "execution_count": null,
      "outputs": [
        {
          "output_type": "execute_result",
          "data": {
            "text/plain": [
              "                id date_account_created  timestamp_first_active     gender  \\\n",
              "186235  sedditw4j9           2014-05-08          20140508082600  -unknown-   \n",
              "\n",
              "        age signup_method  signup_flow language affiliate_channel  \\\n",
              "186235  NaN         basic           23       ko            direct   \n",
              "\n",
              "       affiliate_provider first_affiliate_tracked signup_app  \\\n",
              "186235             direct               untracked    Android   \n",
              "\n",
              "       first_device_type first_browser  tfa_year  tfa_month  tfa_day  \n",
              "186235     Android Phone     -unknown-      2014          5        8  "
            ],
            "text/html": [
              "\n",
              "  <div id=\"df-f299fc4f-4b25-40af-bce5-52f6e136d703\">\n",
              "    <div class=\"colab-df-container\">\n",
              "      <div>\n",
              "<style scoped>\n",
              "    .dataframe tbody tr th:only-of-type {\n",
              "        vertical-align: middle;\n",
              "    }\n",
              "\n",
              "    .dataframe tbody tr th {\n",
              "        vertical-align: top;\n",
              "    }\n",
              "\n",
              "    .dataframe thead th {\n",
              "        text-align: right;\n",
              "    }\n",
              "</style>\n",
              "<table border=\"1\" class=\"dataframe\">\n",
              "  <thead>\n",
              "    <tr style=\"text-align: right;\">\n",
              "      <th></th>\n",
              "      <th>id</th>\n",
              "      <th>date_account_created</th>\n",
              "      <th>timestamp_first_active</th>\n",
              "      <th>gender</th>\n",
              "      <th>age</th>\n",
              "      <th>signup_method</th>\n",
              "      <th>signup_flow</th>\n",
              "      <th>language</th>\n",
              "      <th>affiliate_channel</th>\n",
              "      <th>affiliate_provider</th>\n",
              "      <th>first_affiliate_tracked</th>\n",
              "      <th>signup_app</th>\n",
              "      <th>first_device_type</th>\n",
              "      <th>first_browser</th>\n",
              "      <th>tfa_year</th>\n",
              "      <th>tfa_month</th>\n",
              "      <th>tfa_day</th>\n",
              "    </tr>\n",
              "  </thead>\n",
              "  <tbody>\n",
              "    <tr>\n",
              "      <th>186235</th>\n",
              "      <td>sedditw4j9</td>\n",
              "      <td>2014-05-08</td>\n",
              "      <td>20140508082600</td>\n",
              "      <td>-unknown-</td>\n",
              "      <td>NaN</td>\n",
              "      <td>basic</td>\n",
              "      <td>23</td>\n",
              "      <td>ko</td>\n",
              "      <td>direct</td>\n",
              "      <td>direct</td>\n",
              "      <td>untracked</td>\n",
              "      <td>Android</td>\n",
              "      <td>Android Phone</td>\n",
              "      <td>-unknown-</td>\n",
              "      <td>2014</td>\n",
              "      <td>5</td>\n",
              "      <td>8</td>\n",
              "    </tr>\n",
              "  </tbody>\n",
              "</table>\n",
              "</div>\n",
              "      <button class=\"colab-df-convert\" onclick=\"convertToInteractive('df-f299fc4f-4b25-40af-bce5-52f6e136d703')\"\n",
              "              title=\"Convert this dataframe to an interactive table.\"\n",
              "              style=\"display:none;\">\n",
              "        \n",
              "  <svg xmlns=\"http://www.w3.org/2000/svg\" height=\"24px\"viewBox=\"0 0 24 24\"\n",
              "       width=\"24px\">\n",
              "    <path d=\"M0 0h24v24H0V0z\" fill=\"none\"/>\n",
              "    <path d=\"M18.56 5.44l.94 2.06.94-2.06 2.06-.94-2.06-.94-.94-2.06-.94 2.06-2.06.94zm-11 1L8.5 8.5l.94-2.06 2.06-.94-2.06-.94L8.5 2.5l-.94 2.06-2.06.94zm10 10l.94 2.06.94-2.06 2.06-.94-2.06-.94-.94-2.06-.94 2.06-2.06.94z\"/><path d=\"M17.41 7.96l-1.37-1.37c-.4-.4-.92-.59-1.43-.59-.52 0-1.04.2-1.43.59L10.3 9.45l-7.72 7.72c-.78.78-.78 2.05 0 2.83L4 21.41c.39.39.9.59 1.41.59.51 0 1.02-.2 1.41-.59l7.78-7.78 2.81-2.81c.8-.78.8-2.07 0-2.86zM5.41 20L4 18.59l7.72-7.72 1.47 1.35L5.41 20z\"/>\n",
              "  </svg>\n",
              "      </button>\n",
              "      \n",
              "  <style>\n",
              "    .colab-df-container {\n",
              "      display:flex;\n",
              "      flex-wrap:wrap;\n",
              "      gap: 12px;\n",
              "    }\n",
              "\n",
              "    .colab-df-convert {\n",
              "      background-color: #E8F0FE;\n",
              "      border: none;\n",
              "      border-radius: 50%;\n",
              "      cursor: pointer;\n",
              "      display: none;\n",
              "      fill: #1967D2;\n",
              "      height: 32px;\n",
              "      padding: 0 0 0 0;\n",
              "      width: 32px;\n",
              "    }\n",
              "\n",
              "    .colab-df-convert:hover {\n",
              "      background-color: #E2EBFA;\n",
              "      box-shadow: 0px 1px 2px rgba(60, 64, 67, 0.3), 0px 1px 3px 1px rgba(60, 64, 67, 0.15);\n",
              "      fill: #174EA6;\n",
              "    }\n",
              "\n",
              "    [theme=dark] .colab-df-convert {\n",
              "      background-color: #3B4455;\n",
              "      fill: #D2E3FC;\n",
              "    }\n",
              "\n",
              "    [theme=dark] .colab-df-convert:hover {\n",
              "      background-color: #434B5C;\n",
              "      box-shadow: 0px 1px 3px 1px rgba(0, 0, 0, 0.15);\n",
              "      filter: drop-shadow(0px 1px 2px rgba(0, 0, 0, 0.3));\n",
              "      fill: #FFFFFF;\n",
              "    }\n",
              "  </style>\n",
              "\n",
              "      <script>\n",
              "        const buttonEl =\n",
              "          document.querySelector('#df-f299fc4f-4b25-40af-bce5-52f6e136d703 button.colab-df-convert');\n",
              "        buttonEl.style.display =\n",
              "          google.colab.kernel.accessAllowed ? 'block' : 'none';\n",
              "\n",
              "        async function convertToInteractive(key) {\n",
              "          const element = document.querySelector('#df-f299fc4f-4b25-40af-bce5-52f6e136d703');\n",
              "          const dataTable =\n",
              "            await google.colab.kernel.invokeFunction('convertToInteractive',\n",
              "                                                     [key], {});\n",
              "          if (!dataTable) return;\n",
              "\n",
              "          const docLinkHtml = 'Like what you see? Visit the ' +\n",
              "            '<a target=\"_blank\" href=https://colab.research.google.com/notebooks/data_table.ipynb>data table notebook</a>'\n",
              "            + ' to learn more about interactive tables.';\n",
              "          element.innerHTML = '';\n",
              "          dataTable['output_type'] = 'display_data';\n",
              "          await google.colab.output.renderOutput(dataTable, element);\n",
              "          const docLink = document.createElement('div');\n",
              "          docLink.innerHTML = docLinkHtml;\n",
              "          element.appendChild(docLink);\n",
              "        }\n",
              "      </script>\n",
              "    </div>\n",
              "  </div>\n",
              "  "
            ]
          },
          "metadata": {},
          "execution_count": 89
        }
      ]
    },
    {
      "cell_type": "code",
      "source": [
        "# Extract 'weekday' feature from datetime column using one-hot encoding\n",
        "df_users['tfa_wd'] = np.array([x.isoweekday() for x in tfa]) \n",
        "df_tfa_wd = pd.get_dummies(df_users.tfa_wd, prefix = 'tfa_wd')  # one hot encoding \n",
        "df_users = pd.concat((df_users, df_tfa_wd), axis = 1) # join\n",
        "df_users.drop(['tfa_wd'], axis = 1, inplace = True) # drop the orignal 'weekday' column \n",
        "df_users.sample()"
      ],
      "metadata": {
        "colab": {
          "base_uri": "https://localhost:8080/",
          "height": 174
        },
        "id": "jDYIDuN5MAca",
        "outputId": "1ee493f4-a97e-4ce4-f37c-aa393e5ca7da"
      },
      "execution_count": null,
      "outputs": [
        {
          "output_type": "execute_result",
          "data": {
            "text/plain": [
              "               id date_account_created  timestamp_first_active  gender   age  \\\n",
              "36248  hxdrq77jsl           2012-08-13          20120813051905  FEMALE  49.0   \n",
              "\n",
              "      signup_method  signup_flow language affiliate_channel  \\\n",
              "36248      facebook            0       en     sem-non-brand   \n",
              "\n",
              "      affiliate_provider  ... tfa_year tfa_month tfa_day tfa_wd_1  tfa_wd_2  \\\n",
              "36248             google  ...     2012         8      13        1         0   \n",
              "\n",
              "       tfa_wd_3  tfa_wd_4  tfa_wd_5  tfa_wd_6  tfa_wd_7  \n",
              "36248         0         0         0         0         0  \n",
              "\n",
              "[1 rows x 24 columns]"
            ],
            "text/html": [
              "\n",
              "  <div id=\"df-223a5fcd-b249-4891-bce3-de87ff05bcd5\">\n",
              "    <div class=\"colab-df-container\">\n",
              "      <div>\n",
              "<style scoped>\n",
              "    .dataframe tbody tr th:only-of-type {\n",
              "        vertical-align: middle;\n",
              "    }\n",
              "\n",
              "    .dataframe tbody tr th {\n",
              "        vertical-align: top;\n",
              "    }\n",
              "\n",
              "    .dataframe thead th {\n",
              "        text-align: right;\n",
              "    }\n",
              "</style>\n",
              "<table border=\"1\" class=\"dataframe\">\n",
              "  <thead>\n",
              "    <tr style=\"text-align: right;\">\n",
              "      <th></th>\n",
              "      <th>id</th>\n",
              "      <th>date_account_created</th>\n",
              "      <th>timestamp_first_active</th>\n",
              "      <th>gender</th>\n",
              "      <th>age</th>\n",
              "      <th>signup_method</th>\n",
              "      <th>signup_flow</th>\n",
              "      <th>language</th>\n",
              "      <th>affiliate_channel</th>\n",
              "      <th>affiliate_provider</th>\n",
              "      <th>...</th>\n",
              "      <th>tfa_year</th>\n",
              "      <th>tfa_month</th>\n",
              "      <th>tfa_day</th>\n",
              "      <th>tfa_wd_1</th>\n",
              "      <th>tfa_wd_2</th>\n",
              "      <th>tfa_wd_3</th>\n",
              "      <th>tfa_wd_4</th>\n",
              "      <th>tfa_wd_5</th>\n",
              "      <th>tfa_wd_6</th>\n",
              "      <th>tfa_wd_7</th>\n",
              "    </tr>\n",
              "  </thead>\n",
              "  <tbody>\n",
              "    <tr>\n",
              "      <th>36248</th>\n",
              "      <td>hxdrq77jsl</td>\n",
              "      <td>2012-08-13</td>\n",
              "      <td>20120813051905</td>\n",
              "      <td>FEMALE</td>\n",
              "      <td>49.0</td>\n",
              "      <td>facebook</td>\n",
              "      <td>0</td>\n",
              "      <td>en</td>\n",
              "      <td>sem-non-brand</td>\n",
              "      <td>google</td>\n",
              "      <td>...</td>\n",
              "      <td>2012</td>\n",
              "      <td>8</td>\n",
              "      <td>13</td>\n",
              "      <td>1</td>\n",
              "      <td>0</td>\n",
              "      <td>0</td>\n",
              "      <td>0</td>\n",
              "      <td>0</td>\n",
              "      <td>0</td>\n",
              "      <td>0</td>\n",
              "    </tr>\n",
              "  </tbody>\n",
              "</table>\n",
              "<p>1 rows × 24 columns</p>\n",
              "</div>\n",
              "      <button class=\"colab-df-convert\" onclick=\"convertToInteractive('df-223a5fcd-b249-4891-bce3-de87ff05bcd5')\"\n",
              "              title=\"Convert this dataframe to an interactive table.\"\n",
              "              style=\"display:none;\">\n",
              "        \n",
              "  <svg xmlns=\"http://www.w3.org/2000/svg\" height=\"24px\"viewBox=\"0 0 24 24\"\n",
              "       width=\"24px\">\n",
              "    <path d=\"M0 0h24v24H0V0z\" fill=\"none\"/>\n",
              "    <path d=\"M18.56 5.44l.94 2.06.94-2.06 2.06-.94-2.06-.94-.94-2.06-.94 2.06-2.06.94zm-11 1L8.5 8.5l.94-2.06 2.06-.94-2.06-.94L8.5 2.5l-.94 2.06-2.06.94zm10 10l.94 2.06.94-2.06 2.06-.94-2.06-.94-.94-2.06-.94 2.06-2.06.94z\"/><path d=\"M17.41 7.96l-1.37-1.37c-.4-.4-.92-.59-1.43-.59-.52 0-1.04.2-1.43.59L10.3 9.45l-7.72 7.72c-.78.78-.78 2.05 0 2.83L4 21.41c.39.39.9.59 1.41.59.51 0 1.02-.2 1.41-.59l7.78-7.78 2.81-2.81c.8-.78.8-2.07 0-2.86zM5.41 20L4 18.59l7.72-7.72 1.47 1.35L5.41 20z\"/>\n",
              "  </svg>\n",
              "      </button>\n",
              "      \n",
              "  <style>\n",
              "    .colab-df-container {\n",
              "      display:flex;\n",
              "      flex-wrap:wrap;\n",
              "      gap: 12px;\n",
              "    }\n",
              "\n",
              "    .colab-df-convert {\n",
              "      background-color: #E8F0FE;\n",
              "      border: none;\n",
              "      border-radius: 50%;\n",
              "      cursor: pointer;\n",
              "      display: none;\n",
              "      fill: #1967D2;\n",
              "      height: 32px;\n",
              "      padding: 0 0 0 0;\n",
              "      width: 32px;\n",
              "    }\n",
              "\n",
              "    .colab-df-convert:hover {\n",
              "      background-color: #E2EBFA;\n",
              "      box-shadow: 0px 1px 2px rgba(60, 64, 67, 0.3), 0px 1px 3px 1px rgba(60, 64, 67, 0.15);\n",
              "      fill: #174EA6;\n",
              "    }\n",
              "\n",
              "    [theme=dark] .colab-df-convert {\n",
              "      background-color: #3B4455;\n",
              "      fill: #D2E3FC;\n",
              "    }\n",
              "\n",
              "    [theme=dark] .colab-df-convert:hover {\n",
              "      background-color: #434B5C;\n",
              "      box-shadow: 0px 1px 3px 1px rgba(0, 0, 0, 0.15);\n",
              "      filter: drop-shadow(0px 1px 2px rgba(0, 0, 0, 0.3));\n",
              "      fill: #FFFFFF;\n",
              "    }\n",
              "  </style>\n",
              "\n",
              "      <script>\n",
              "        const buttonEl =\n",
              "          document.querySelector('#df-223a5fcd-b249-4891-bce3-de87ff05bcd5 button.colab-df-convert');\n",
              "        buttonEl.style.display =\n",
              "          google.colab.kernel.accessAllowed ? 'block' : 'none';\n",
              "\n",
              "        async function convertToInteractive(key) {\n",
              "          const element = document.querySelector('#df-223a5fcd-b249-4891-bce3-de87ff05bcd5');\n",
              "          const dataTable =\n",
              "            await google.colab.kernel.invokeFunction('convertToInteractive',\n",
              "                                                     [key], {});\n",
              "          if (!dataTable) return;\n",
              "\n",
              "          const docLinkHtml = 'Like what you see? Visit the ' +\n",
              "            '<a target=\"_blank\" href=https://colab.research.google.com/notebooks/data_table.ipynb>data table notebook</a>'\n",
              "            + ' to learn more about interactive tables.';\n",
              "          element.innerHTML = '';\n",
              "          dataTable['output_type'] = 'display_data';\n",
              "          await google.colab.output.renderOutput(dataTable, element);\n",
              "          const docLink = document.createElement('div');\n",
              "          docLink.innerHTML = docLinkHtml;\n",
              "          element.appendChild(docLink);\n",
              "        }\n",
              "      </script>\n",
              "    </div>\n",
              "  </div>\n",
              "  "
            ]
          },
          "metadata": {},
          "execution_count": 90
        }
      ]
    },
    {
      "cell_type": "code",
      "source": [
        "# Extract 'season' feature from datetime column\n",
        "\n",
        "print(f'As the season feature only considers the month rather than the year feature, the year feature was set to a specific value to simplify the process.')\n",
        "\n",
        "Y = 2000\n",
        "seasons = [(0, (date(Y,  1,  1),  date(Y,  3, 20))),  #'winter'\n",
        "           (1, (date(Y,  3, 21),  date(Y,  6, 20))),  #'spring'\n",
        "           (2, (date(Y,  6, 21),  date(Y,  9, 22))),  #'summer'\n",
        "           (3, (date(Y,  9, 23),  date(Y, 12, 20))),  #'autumn'\n",
        "           (0, (date(Y, 12, 21),  date(Y, 12, 31)))]  #'winter'\n",
        "\n",
        "def get_season(dt):\n",
        "    dt = dt.date() # Obtain the date\n",
        "    dt = dt.replace(year=Y) # Replace all year value with 2000\n",
        "    return next(season for season, (start, end) in seasons if start <= dt <= end)\n",
        "\n",
        "df_users['tfa_season'] = np.array([get_season(x) for x in tfa])\n",
        "df_tfa_season = pd.get_dummies(df_users.tfa_season, prefix = 'tfa_season') # one hot encoding \n",
        "df_users = pd.concat((df_users, df_tfa_season), axis = 1)\n",
        "df_users.drop(['tfa_season'], axis = 1, inplace = True)\n",
        "df_users.sample()"
      ],
      "metadata": {
        "colab": {
          "base_uri": "https://localhost:8080/",
          "height": 192
        },
        "id": "NCiUg52xMrVO",
        "outputId": "b54b35d8-2729-4753-ab1a-7b4ab89108d0"
      },
      "execution_count": null,
      "outputs": [
        {
          "output_type": "stream",
          "name": "stdout",
          "text": [
            "As the season feature only considers the month rather than the year feature, the year feature was set to a specific value to simplify the process.\n"
          ]
        },
        {
          "output_type": "execute_result",
          "data": {
            "text/plain": [
              "                id date_account_created  timestamp_first_active  gender   age  \\\n",
              "202607  ai2kffd7bz           2014-06-10          20140610203015  FEMALE  31.0   \n",
              "\n",
              "       signup_method  signup_flow language affiliate_channel  \\\n",
              "202607         basic            0       en            direct   \n",
              "\n",
              "       affiliate_provider  ... tfa_wd_2 tfa_wd_3 tfa_wd_4 tfa_wd_5  tfa_wd_6  \\\n",
              "202607             direct  ...        1        0        0        0         0   \n",
              "\n",
              "        tfa_wd_7  tfa_season_0  tfa_season_1  tfa_season_2  tfa_season_3  \n",
              "202607         0             0             1             0             0  \n",
              "\n",
              "[1 rows x 28 columns]"
            ],
            "text/html": [
              "\n",
              "  <div id=\"df-87b90eaf-631d-4f8e-bd4f-3eea563bc02a\">\n",
              "    <div class=\"colab-df-container\">\n",
              "      <div>\n",
              "<style scoped>\n",
              "    .dataframe tbody tr th:only-of-type {\n",
              "        vertical-align: middle;\n",
              "    }\n",
              "\n",
              "    .dataframe tbody tr th {\n",
              "        vertical-align: top;\n",
              "    }\n",
              "\n",
              "    .dataframe thead th {\n",
              "        text-align: right;\n",
              "    }\n",
              "</style>\n",
              "<table border=\"1\" class=\"dataframe\">\n",
              "  <thead>\n",
              "    <tr style=\"text-align: right;\">\n",
              "      <th></th>\n",
              "      <th>id</th>\n",
              "      <th>date_account_created</th>\n",
              "      <th>timestamp_first_active</th>\n",
              "      <th>gender</th>\n",
              "      <th>age</th>\n",
              "      <th>signup_method</th>\n",
              "      <th>signup_flow</th>\n",
              "      <th>language</th>\n",
              "      <th>affiliate_channel</th>\n",
              "      <th>affiliate_provider</th>\n",
              "      <th>...</th>\n",
              "      <th>tfa_wd_2</th>\n",
              "      <th>tfa_wd_3</th>\n",
              "      <th>tfa_wd_4</th>\n",
              "      <th>tfa_wd_5</th>\n",
              "      <th>tfa_wd_6</th>\n",
              "      <th>tfa_wd_7</th>\n",
              "      <th>tfa_season_0</th>\n",
              "      <th>tfa_season_1</th>\n",
              "      <th>tfa_season_2</th>\n",
              "      <th>tfa_season_3</th>\n",
              "    </tr>\n",
              "  </thead>\n",
              "  <tbody>\n",
              "    <tr>\n",
              "      <th>202607</th>\n",
              "      <td>ai2kffd7bz</td>\n",
              "      <td>2014-06-10</td>\n",
              "      <td>20140610203015</td>\n",
              "      <td>FEMALE</td>\n",
              "      <td>31.0</td>\n",
              "      <td>basic</td>\n",
              "      <td>0</td>\n",
              "      <td>en</td>\n",
              "      <td>direct</td>\n",
              "      <td>direct</td>\n",
              "      <td>...</td>\n",
              "      <td>1</td>\n",
              "      <td>0</td>\n",
              "      <td>0</td>\n",
              "      <td>0</td>\n",
              "      <td>0</td>\n",
              "      <td>0</td>\n",
              "      <td>0</td>\n",
              "      <td>1</td>\n",
              "      <td>0</td>\n",
              "      <td>0</td>\n",
              "    </tr>\n",
              "  </tbody>\n",
              "</table>\n",
              "<p>1 rows × 28 columns</p>\n",
              "</div>\n",
              "      <button class=\"colab-df-convert\" onclick=\"convertToInteractive('df-87b90eaf-631d-4f8e-bd4f-3eea563bc02a')\"\n",
              "              title=\"Convert this dataframe to an interactive table.\"\n",
              "              style=\"display:none;\">\n",
              "        \n",
              "  <svg xmlns=\"http://www.w3.org/2000/svg\" height=\"24px\"viewBox=\"0 0 24 24\"\n",
              "       width=\"24px\">\n",
              "    <path d=\"M0 0h24v24H0V0z\" fill=\"none\"/>\n",
              "    <path d=\"M18.56 5.44l.94 2.06.94-2.06 2.06-.94-2.06-.94-.94-2.06-.94 2.06-2.06.94zm-11 1L8.5 8.5l.94-2.06 2.06-.94-2.06-.94L8.5 2.5l-.94 2.06-2.06.94zm10 10l.94 2.06.94-2.06 2.06-.94-2.06-.94-.94-2.06-.94 2.06-2.06.94z\"/><path d=\"M17.41 7.96l-1.37-1.37c-.4-.4-.92-.59-1.43-.59-.52 0-1.04.2-1.43.59L10.3 9.45l-7.72 7.72c-.78.78-.78 2.05 0 2.83L4 21.41c.39.39.9.59 1.41.59.51 0 1.02-.2 1.41-.59l7.78-7.78 2.81-2.81c.8-.78.8-2.07 0-2.86zM5.41 20L4 18.59l7.72-7.72 1.47 1.35L5.41 20z\"/>\n",
              "  </svg>\n",
              "      </button>\n",
              "      \n",
              "  <style>\n",
              "    .colab-df-container {\n",
              "      display:flex;\n",
              "      flex-wrap:wrap;\n",
              "      gap: 12px;\n",
              "    }\n",
              "\n",
              "    .colab-df-convert {\n",
              "      background-color: #E8F0FE;\n",
              "      border: none;\n",
              "      border-radius: 50%;\n",
              "      cursor: pointer;\n",
              "      display: none;\n",
              "      fill: #1967D2;\n",
              "      height: 32px;\n",
              "      padding: 0 0 0 0;\n",
              "      width: 32px;\n",
              "    }\n",
              "\n",
              "    .colab-df-convert:hover {\n",
              "      background-color: #E2EBFA;\n",
              "      box-shadow: 0px 1px 2px rgba(60, 64, 67, 0.3), 0px 1px 3px 1px rgba(60, 64, 67, 0.15);\n",
              "      fill: #174EA6;\n",
              "    }\n",
              "\n",
              "    [theme=dark] .colab-df-convert {\n",
              "      background-color: #3B4455;\n",
              "      fill: #D2E3FC;\n",
              "    }\n",
              "\n",
              "    [theme=dark] .colab-df-convert:hover {\n",
              "      background-color: #434B5C;\n",
              "      box-shadow: 0px 1px 3px 1px rgba(0, 0, 0, 0.15);\n",
              "      filter: drop-shadow(0px 1px 2px rgba(0, 0, 0, 0.3));\n",
              "      fill: #FFFFFF;\n",
              "    }\n",
              "  </style>\n",
              "\n",
              "      <script>\n",
              "        const buttonEl =\n",
              "          document.querySelector('#df-87b90eaf-631d-4f8e-bd4f-3eea563bc02a button.colab-df-convert');\n",
              "        buttonEl.style.display =\n",
              "          google.colab.kernel.accessAllowed ? 'block' : 'none';\n",
              "\n",
              "        async function convertToInteractive(key) {\n",
              "          const element = document.querySelector('#df-87b90eaf-631d-4f8e-bd4f-3eea563bc02a');\n",
              "          const dataTable =\n",
              "            await google.colab.kernel.invokeFunction('convertToInteractive',\n",
              "                                                     [key], {});\n",
              "          if (!dataTable) return;\n",
              "\n",
              "          const docLinkHtml = 'Like what you see? Visit the ' +\n",
              "            '<a target=\"_blank\" href=https://colab.research.google.com/notebooks/data_table.ipynb>data table notebook</a>'\n",
              "            + ' to learn more about interactive tables.';\n",
              "          element.innerHTML = '';\n",
              "          dataTable['output_type'] = 'display_data';\n",
              "          await google.colab.output.renderOutput(dataTable, element);\n",
              "          const docLink = document.createElement('div');\n",
              "          docLink.innerHTML = docLinkHtml;\n",
              "          element.appendChild(docLink);\n",
              "        }\n",
              "      </script>\n",
              "    </div>\n",
              "  </div>\n",
              "  "
            ]
          },
          "metadata": {},
          "execution_count": 91
        }
      ]
    },
    {
      "cell_type": "markdown",
      "source": [
        "  * *3.4.2.2 'date_account_created'*"
      ],
      "metadata": {
        "id": "JsxqTHNjOhV3"
      }
    },
    {
      "cell_type": "code",
      "source": [
        "# Convert data type to datetime type\n",
        "dac = pd.to_datetime(df_users.date_account_created)"
      ],
      "metadata": {
        "id": "y3BXRv1WN1dP"
      },
      "execution_count": null,
      "outputs": []
    },
    {
      "cell_type": "code",
      "source": [
        "# Extract 'year', 'month', 'day' feature for the dac column\n",
        "df_users['dac_year'] = np.array([x.year for x in dac])\n",
        "df_users['dac_month'] = np.array([x.month for x in dac])\n",
        "df_users['dac_day'] = np.array([x.day for x in dac])"
      ],
      "metadata": {
        "id": "GQlJaKkrO4jt"
      },
      "execution_count": null,
      "outputs": []
    },
    {
      "cell_type": "code",
      "source": [
        "# Extract 'weekday' feature for dac using one-hot encoding\n",
        "df_users['dac_wd'] = np.array([x.isoweekday() for x in dac])\n",
        "df_dac_wd = pd.get_dummies(df_users.dac_wd, prefix = 'dac_wd')\n",
        "df_users = pd.concat((df_users, df_dac_wd), axis = 1)\n",
        "df_users.drop(['dac_wd'], axis = 1, inplace = True)"
      ],
      "metadata": {
        "id": "GUInsojMPLzC"
      },
      "execution_count": null,
      "outputs": []
    },
    {
      "cell_type": "code",
      "source": [
        "# Extract 'season' feature for dac\n",
        "df_users['dac_season'] = np.array([get_season(x) for x in dac])\n",
        "df_dac_season = pd.get_dummies(df_users.dac_season, prefix = 'dac_season')\n",
        "df_users = pd.concat((df_users, df_dac_season), axis = 1)\n",
        "df_users.drop(['dac_season'], axis = 1, inplace = True)"
      ],
      "metadata": {
        "id": "q_ZXRXJqPczo"
      },
      "execution_count": null,
      "outputs": []
    },
    {
      "cell_type": "markdown",
      "source": [
        "  * *3.4.2.3 'date_account_created' and 'timestamp_first_active'*"
      ],
      "metadata": {
        "id": "0J8YFxizP7km"
      }
    },
    {
      "cell_type": "code",
      "source": [
        "# Create the dt_span variable to represent the time span between account creation and first activity\n",
        "dt_span = dac.subtract(tfa).dt.days \n",
        "\n",
        "# User Activity Time Span value counts\n",
        "dt_span.value_counts().head(10)"
      ],
      "metadata": {
        "colab": {
          "base_uri": "https://localhost:8080/"
        },
        "id": "sHyd0RwHPwmY",
        "outputId": "3c4a6e68-05ce-4550-e0c4-ea4e4f146973"
      },
      "execution_count": null,
      "outputs": [
        {
          "output_type": "execute_result",
          "data": {
            "text/plain": [
              "-1      275369\n",
              " 0           7\n",
              " 6           4\n",
              " 1           4\n",
              " 5           4\n",
              " 2           3\n",
              " 3           3\n",
              " 28          3\n",
              " 4           3\n",
              " 103         2\n",
              "dtype: int64"
            ]
          },
          "metadata": {},
          "execution_count": 96
        }
      ]
    },
    {
      "cell_type": "markdown",
      "source": [
        "**Comment**: The above result showed that the majority time span from data account created to first active was '-1'. We could see '-1' representing that users had their first activity at the day they created the account.\n",
        "\n",
        "Thus, we created the categorical feature based on time span of 1 days, 1 month, and 1 year."
      ],
      "metadata": {
        "id": "lcSqGEFEQXTb"
      }
    },
    {
      "cell_type": "code",
      "source": [
        "# Create categorical feature: span = -1; -1 < span < 30; 31 < span < 365; span > 365\n",
        "def get_span(dt):\n",
        "    # dt is an integer\n",
        "    if dt == -1:\n",
        "        return 'OneDay'\n",
        "    elif (dt < 30) & (dt > -1):\n",
        "        return 'OneMonth'\n",
        "    elif (dt >= 30) & (dt <= 365):\n",
        "        return 'OneYear'\n",
        "    else:\n",
        "        return 'other'\n",
        "df_users['dt_span'] = np.array([get_span(x) for x in dt_span])\n",
        "df_dt_span = pd.get_dummies(df_users.dt_span, prefix = 'dt_span')\n",
        "df_users = pd.concat((df_users, df_dt_span), axis = 1)\n",
        "df_users = df_users.drop(['dt_span'], axis = 1)\n",
        "\n",
        "# Drop two columns\n",
        "df_users = df_users.drop(['date_account_created','timestamp_first_active'], axis = 1)\n",
        "df_users.sample()\n"
      ],
      "metadata": {
        "colab": {
          "base_uri": "https://localhost:8080/",
          "height": 174
        },
        "id": "s8s29glmQWmE",
        "outputId": "97d97053-7c61-4560-f830-098642d14236"
      },
      "execution_count": null,
      "outputs": [
        {
          "output_type": "execute_result",
          "data": {
            "text/plain": [
              "                id gender  age signup_method  signup_flow language  \\\n",
              "185250  y78h83bv7u   MALE  NaN         basic            0       en   \n",
              "\n",
              "       affiliate_channel affiliate_provider first_affiliate_tracked  \\\n",
              "185250            direct             direct                  linked   \n",
              "\n",
              "       signup_app  ... dac_wd_6 dac_wd_7  dac_season_0  dac_season_1  \\\n",
              "185250        Web  ...        0        0             0             1   \n",
              "\n",
              "        dac_season_2  dac_season_3  dt_span_OneDay  dt_span_OneMonth  \\\n",
              "185250             0             0               1                 0   \n",
              "\n",
              "        dt_span_OneYear  dt_span_other  \n",
              "185250                0              0  \n",
              "\n",
              "[1 rows x 44 columns]"
            ],
            "text/html": [
              "\n",
              "  <div id=\"df-da159a28-15b7-489b-bf29-811ebc3cb49d\">\n",
              "    <div class=\"colab-df-container\">\n",
              "      <div>\n",
              "<style scoped>\n",
              "    .dataframe tbody tr th:only-of-type {\n",
              "        vertical-align: middle;\n",
              "    }\n",
              "\n",
              "    .dataframe tbody tr th {\n",
              "        vertical-align: top;\n",
              "    }\n",
              "\n",
              "    .dataframe thead th {\n",
              "        text-align: right;\n",
              "    }\n",
              "</style>\n",
              "<table border=\"1\" class=\"dataframe\">\n",
              "  <thead>\n",
              "    <tr style=\"text-align: right;\">\n",
              "      <th></th>\n",
              "      <th>id</th>\n",
              "      <th>gender</th>\n",
              "      <th>age</th>\n",
              "      <th>signup_method</th>\n",
              "      <th>signup_flow</th>\n",
              "      <th>language</th>\n",
              "      <th>affiliate_channel</th>\n",
              "      <th>affiliate_provider</th>\n",
              "      <th>first_affiliate_tracked</th>\n",
              "      <th>signup_app</th>\n",
              "      <th>...</th>\n",
              "      <th>dac_wd_6</th>\n",
              "      <th>dac_wd_7</th>\n",
              "      <th>dac_season_0</th>\n",
              "      <th>dac_season_1</th>\n",
              "      <th>dac_season_2</th>\n",
              "      <th>dac_season_3</th>\n",
              "      <th>dt_span_OneDay</th>\n",
              "      <th>dt_span_OneMonth</th>\n",
              "      <th>dt_span_OneYear</th>\n",
              "      <th>dt_span_other</th>\n",
              "    </tr>\n",
              "  </thead>\n",
              "  <tbody>\n",
              "    <tr>\n",
              "      <th>185250</th>\n",
              "      <td>y78h83bv7u</td>\n",
              "      <td>MALE</td>\n",
              "      <td>NaN</td>\n",
              "      <td>basic</td>\n",
              "      <td>0</td>\n",
              "      <td>en</td>\n",
              "      <td>direct</td>\n",
              "      <td>direct</td>\n",
              "      <td>linked</td>\n",
              "      <td>Web</td>\n",
              "      <td>...</td>\n",
              "      <td>0</td>\n",
              "      <td>0</td>\n",
              "      <td>0</td>\n",
              "      <td>1</td>\n",
              "      <td>0</td>\n",
              "      <td>0</td>\n",
              "      <td>1</td>\n",
              "      <td>0</td>\n",
              "      <td>0</td>\n",
              "      <td>0</td>\n",
              "    </tr>\n",
              "  </tbody>\n",
              "</table>\n",
              "<p>1 rows × 44 columns</p>\n",
              "</div>\n",
              "      <button class=\"colab-df-convert\" onclick=\"convertToInteractive('df-da159a28-15b7-489b-bf29-811ebc3cb49d')\"\n",
              "              title=\"Convert this dataframe to an interactive table.\"\n",
              "              style=\"display:none;\">\n",
              "        \n",
              "  <svg xmlns=\"http://www.w3.org/2000/svg\" height=\"24px\"viewBox=\"0 0 24 24\"\n",
              "       width=\"24px\">\n",
              "    <path d=\"M0 0h24v24H0V0z\" fill=\"none\"/>\n",
              "    <path d=\"M18.56 5.44l.94 2.06.94-2.06 2.06-.94-2.06-.94-.94-2.06-.94 2.06-2.06.94zm-11 1L8.5 8.5l.94-2.06 2.06-.94-2.06-.94L8.5 2.5l-.94 2.06-2.06.94zm10 10l.94 2.06.94-2.06 2.06-.94-2.06-.94-.94-2.06-.94 2.06-2.06.94z\"/><path d=\"M17.41 7.96l-1.37-1.37c-.4-.4-.92-.59-1.43-.59-.52 0-1.04.2-1.43.59L10.3 9.45l-7.72 7.72c-.78.78-.78 2.05 0 2.83L4 21.41c.39.39.9.59 1.41.59.51 0 1.02-.2 1.41-.59l7.78-7.78 2.81-2.81c.8-.78.8-2.07 0-2.86zM5.41 20L4 18.59l7.72-7.72 1.47 1.35L5.41 20z\"/>\n",
              "  </svg>\n",
              "      </button>\n",
              "      \n",
              "  <style>\n",
              "    .colab-df-container {\n",
              "      display:flex;\n",
              "      flex-wrap:wrap;\n",
              "      gap: 12px;\n",
              "    }\n",
              "\n",
              "    .colab-df-convert {\n",
              "      background-color: #E8F0FE;\n",
              "      border: none;\n",
              "      border-radius: 50%;\n",
              "      cursor: pointer;\n",
              "      display: none;\n",
              "      fill: #1967D2;\n",
              "      height: 32px;\n",
              "      padding: 0 0 0 0;\n",
              "      width: 32px;\n",
              "    }\n",
              "\n",
              "    .colab-df-convert:hover {\n",
              "      background-color: #E2EBFA;\n",
              "      box-shadow: 0px 1px 2px rgba(60, 64, 67, 0.3), 0px 1px 3px 1px rgba(60, 64, 67, 0.15);\n",
              "      fill: #174EA6;\n",
              "    }\n",
              "\n",
              "    [theme=dark] .colab-df-convert {\n",
              "      background-color: #3B4455;\n",
              "      fill: #D2E3FC;\n",
              "    }\n",
              "\n",
              "    [theme=dark] .colab-df-convert:hover {\n",
              "      background-color: #434B5C;\n",
              "      box-shadow: 0px 1px 3px 1px rgba(0, 0, 0, 0.15);\n",
              "      filter: drop-shadow(0px 1px 2px rgba(0, 0, 0, 0.3));\n",
              "      fill: #FFFFFF;\n",
              "    }\n",
              "  </style>\n",
              "\n",
              "      <script>\n",
              "        const buttonEl =\n",
              "          document.querySelector('#df-da159a28-15b7-489b-bf29-811ebc3cb49d button.colab-df-convert');\n",
              "        buttonEl.style.display =\n",
              "          google.colab.kernel.accessAllowed ? 'block' : 'none';\n",
              "\n",
              "        async function convertToInteractive(key) {\n",
              "          const element = document.querySelector('#df-da159a28-15b7-489b-bf29-811ebc3cb49d');\n",
              "          const dataTable =\n",
              "            await google.colab.kernel.invokeFunction('convertToInteractive',\n",
              "                                                     [key], {});\n",
              "          if (!dataTable) return;\n",
              "\n",
              "          const docLinkHtml = 'Like what you see? Visit the ' +\n",
              "            '<a target=\"_blank\" href=https://colab.research.google.com/notebooks/data_table.ipynb>data table notebook</a>'\n",
              "            + ' to learn more about interactive tables.';\n",
              "          element.innerHTML = '';\n",
              "          dataTable['output_type'] = 'display_data';\n",
              "          await google.colab.output.renderOutput(dataTable, element);\n",
              "          const docLink = document.createElement('div');\n",
              "          docLink.innerHTML = docLinkHtml;\n",
              "          element.appendChild(docLink);\n",
              "        }\n",
              "      </script>\n",
              "    </div>\n",
              "  </div>\n",
              "  "
            ]
          },
          "metadata": {},
          "execution_count": 97
        }
      ]
    },
    {
      "cell_type": "markdown",
      "source": [
        " * *3.4.2.4 'age'*"
      ],
      "metadata": {
        "id": "JNtWdRxnSETZ"
      }
    },
    {
      "cell_type": "markdown",
      "source": [
        "In the 'Data Exploration' section, we observed that there were multiple abnormal values existed in the 'age' column. As some records were observed in the range of (1900, 2000), we could assume the users might write down their birthday instead of age and thus we made the adjustment for those values.\n"
      ],
      "metadata": {
        "id": "DkD7C8KYSIDi"
      }
    },
    {
      "cell_type": "code",
      "source": [
        "# As the data was collected in 2014, we estimated users' age by doing (2014 - value)\n",
        "av = df_users.age.values #obtain the age values\n",
        "av = np.where(np.logical_and(av<2000, av>1900), 2014-av, av) # estimate the age\n",
        "df_users['age'] = av"
      ],
      "metadata": {
        "id": "xbwaM1DOR6dW"
      },
      "execution_count": null,
      "outputs": []
    },
    {
      "cell_type": "markdown",
      "source": [
        "Then, there is still some inconsistency existed in the age value of multiple users, which might be caused by the age input field was not sanitized or there was some mistakes handlig the data in the 'age' column. Let's break down the age into discrete values, and return the unreasonable age value to 'unphysical'.\n"
      ],
      "metadata": {
        "id": "Gn2bWuTFVDlF"
      }
    },
    {
      "cell_type": "code",
      "source": [
        "# Age has many abnormal values that we need to deal with. \n",
        "age = df_users.age\n",
        "age.fillna(-1, inplace = True) # fill-in the empty value with -1\n",
        "div = 15\n",
        "# Define function to slice the age values and make it discrete value\n",
        "def get_age(age):\n",
        "    if age < 0:\n",
        "        return 'NA' # null value\n",
        "    elif (age < div):\n",
        "        return div # If age is less than 15, then return 15\n",
        "    elif (age <= div * 2):\n",
        "        return div*2 # If age is (15,30), then return 30\n",
        "    elif (age <= div * 3):\n",
        "        return div * 3\n",
        "    elif (age <= div * 4):\n",
        "        return div * 4\n",
        "    elif (age <= div * 5):\n",
        "        return div * 5\n",
        "    elif (age <= 110):\n",
        "        return div * 6\n",
        "    else:\n",
        "        return 'Unphysical' # For the remaining value, return 'Unphysical'\n",
        "\n",
        "# Corporate the engineered age value into df\n",
        "df_users['age'] = np.array([get_age(x) for x in age])\n",
        "df_age = pd.get_dummies(df_users.age, prefix = 'age')\n",
        "df_users = pd.concat((df_users, df_age), axis = 1)\n",
        "df_users.drop(['age'], axis = 1, inplace = True)\n",
        "df_users.sample()"
      ],
      "metadata": {
        "colab": {
          "base_uri": "https://localhost:8080/",
          "height": 191
        },
        "id": "9GCkVCz8UC2J",
        "outputId": "e20574ad-856e-4931-b772-0f90c8075e03"
      },
      "execution_count": null,
      "outputs": [
        {
          "output_type": "execute_result",
          "data": {
            "text/plain": [
              "                id     gender signup_method  signup_flow language  \\\n",
              "223537  5mzgmsnbvq  -unknown-         basic            0       en   \n",
              "\n",
              "       affiliate_channel affiliate_provider first_affiliate_tracked  \\\n",
              "223537            direct             direct               untracked   \n",
              "\n",
              "       signup_app first_device_type  ... dt_span_OneYear  dt_span_other  \\\n",
              "223537        Web   Windows Desktop  ...               0              0   \n",
              "\n",
              "        age_15  age_30  age_45  age_60  age_75  age_90  age_NA  age_Unphysical  \n",
              "223537       0       0       0       0       0       0       1               0  \n",
              "\n",
              "[1 rows x 51 columns]"
            ],
            "text/html": [
              "\n",
              "  <div id=\"df-f5185cff-84b2-4f71-b0ba-569ad42710d6\">\n",
              "    <div class=\"colab-df-container\">\n",
              "      <div>\n",
              "<style scoped>\n",
              "    .dataframe tbody tr th:only-of-type {\n",
              "        vertical-align: middle;\n",
              "    }\n",
              "\n",
              "    .dataframe tbody tr th {\n",
              "        vertical-align: top;\n",
              "    }\n",
              "\n",
              "    .dataframe thead th {\n",
              "        text-align: right;\n",
              "    }\n",
              "</style>\n",
              "<table border=\"1\" class=\"dataframe\">\n",
              "  <thead>\n",
              "    <tr style=\"text-align: right;\">\n",
              "      <th></th>\n",
              "      <th>id</th>\n",
              "      <th>gender</th>\n",
              "      <th>signup_method</th>\n",
              "      <th>signup_flow</th>\n",
              "      <th>language</th>\n",
              "      <th>affiliate_channel</th>\n",
              "      <th>affiliate_provider</th>\n",
              "      <th>first_affiliate_tracked</th>\n",
              "      <th>signup_app</th>\n",
              "      <th>first_device_type</th>\n",
              "      <th>...</th>\n",
              "      <th>dt_span_OneYear</th>\n",
              "      <th>dt_span_other</th>\n",
              "      <th>age_15</th>\n",
              "      <th>age_30</th>\n",
              "      <th>age_45</th>\n",
              "      <th>age_60</th>\n",
              "      <th>age_75</th>\n",
              "      <th>age_90</th>\n",
              "      <th>age_NA</th>\n",
              "      <th>age_Unphysical</th>\n",
              "    </tr>\n",
              "  </thead>\n",
              "  <tbody>\n",
              "    <tr>\n",
              "      <th>223537</th>\n",
              "      <td>5mzgmsnbvq</td>\n",
              "      <td>-unknown-</td>\n",
              "      <td>basic</td>\n",
              "      <td>0</td>\n",
              "      <td>en</td>\n",
              "      <td>direct</td>\n",
              "      <td>direct</td>\n",
              "      <td>untracked</td>\n",
              "      <td>Web</td>\n",
              "      <td>Windows Desktop</td>\n",
              "      <td>...</td>\n",
              "      <td>0</td>\n",
              "      <td>0</td>\n",
              "      <td>0</td>\n",
              "      <td>0</td>\n",
              "      <td>0</td>\n",
              "      <td>0</td>\n",
              "      <td>0</td>\n",
              "      <td>0</td>\n",
              "      <td>1</td>\n",
              "      <td>0</td>\n",
              "    </tr>\n",
              "  </tbody>\n",
              "</table>\n",
              "<p>1 rows × 51 columns</p>\n",
              "</div>\n",
              "      <button class=\"colab-df-convert\" onclick=\"convertToInteractive('df-f5185cff-84b2-4f71-b0ba-569ad42710d6')\"\n",
              "              title=\"Convert this dataframe to an interactive table.\"\n",
              "              style=\"display:none;\">\n",
              "        \n",
              "  <svg xmlns=\"http://www.w3.org/2000/svg\" height=\"24px\"viewBox=\"0 0 24 24\"\n",
              "       width=\"24px\">\n",
              "    <path d=\"M0 0h24v24H0V0z\" fill=\"none\"/>\n",
              "    <path d=\"M18.56 5.44l.94 2.06.94-2.06 2.06-.94-2.06-.94-.94-2.06-.94 2.06-2.06.94zm-11 1L8.5 8.5l.94-2.06 2.06-.94-2.06-.94L8.5 2.5l-.94 2.06-2.06.94zm10 10l.94 2.06.94-2.06 2.06-.94-2.06-.94-.94-2.06-.94 2.06-2.06.94z\"/><path d=\"M17.41 7.96l-1.37-1.37c-.4-.4-.92-.59-1.43-.59-.52 0-1.04.2-1.43.59L10.3 9.45l-7.72 7.72c-.78.78-.78 2.05 0 2.83L4 21.41c.39.39.9.59 1.41.59.51 0 1.02-.2 1.41-.59l7.78-7.78 2.81-2.81c.8-.78.8-2.07 0-2.86zM5.41 20L4 18.59l7.72-7.72 1.47 1.35L5.41 20z\"/>\n",
              "  </svg>\n",
              "      </button>\n",
              "      \n",
              "  <style>\n",
              "    .colab-df-container {\n",
              "      display:flex;\n",
              "      flex-wrap:wrap;\n",
              "      gap: 12px;\n",
              "    }\n",
              "\n",
              "    .colab-df-convert {\n",
              "      background-color: #E8F0FE;\n",
              "      border: none;\n",
              "      border-radius: 50%;\n",
              "      cursor: pointer;\n",
              "      display: none;\n",
              "      fill: #1967D2;\n",
              "      height: 32px;\n",
              "      padding: 0 0 0 0;\n",
              "      width: 32px;\n",
              "    }\n",
              "\n",
              "    .colab-df-convert:hover {\n",
              "      background-color: #E2EBFA;\n",
              "      box-shadow: 0px 1px 2px rgba(60, 64, 67, 0.3), 0px 1px 3px 1px rgba(60, 64, 67, 0.15);\n",
              "      fill: #174EA6;\n",
              "    }\n",
              "\n",
              "    [theme=dark] .colab-df-convert {\n",
              "      background-color: #3B4455;\n",
              "      fill: #D2E3FC;\n",
              "    }\n",
              "\n",
              "    [theme=dark] .colab-df-convert:hover {\n",
              "      background-color: #434B5C;\n",
              "      box-shadow: 0px 1px 3px 1px rgba(0, 0, 0, 0.15);\n",
              "      filter: drop-shadow(0px 1px 2px rgba(0, 0, 0, 0.3));\n",
              "      fill: #FFFFFF;\n",
              "    }\n",
              "  </style>\n",
              "\n",
              "      <script>\n",
              "        const buttonEl =\n",
              "          document.querySelector('#df-f5185cff-84b2-4f71-b0ba-569ad42710d6 button.colab-df-convert');\n",
              "        buttonEl.style.display =\n",
              "          google.colab.kernel.accessAllowed ? 'block' : 'none';\n",
              "\n",
              "        async function convertToInteractive(key) {\n",
              "          const element = document.querySelector('#df-f5185cff-84b2-4f71-b0ba-569ad42710d6');\n",
              "          const dataTable =\n",
              "            await google.colab.kernel.invokeFunction('convertToInteractive',\n",
              "                                                     [key], {});\n",
              "          if (!dataTable) return;\n",
              "\n",
              "          const docLinkHtml = 'Like what you see? Visit the ' +\n",
              "            '<a target=\"_blank\" href=https://colab.research.google.com/notebooks/data_table.ipynb>data table notebook</a>'\n",
              "            + ' to learn more about interactive tables.';\n",
              "          element.innerHTML = '';\n",
              "          dataTable['output_type'] = 'display_data';\n",
              "          await google.colab.output.renderOutput(dataTable, element);\n",
              "          const docLink = document.createElement('div');\n",
              "          docLink.innerHTML = docLinkHtml;\n",
              "          element.appendChild(docLink);\n",
              "        }\n",
              "      </script>\n",
              "    </div>\n",
              "  </div>\n",
              "  "
            ]
          },
          "metadata": {},
          "execution_count": 99
        }
      ]
    },
    {
      "cell_type": "markdown",
      "source": [
        " * *3.4.2.4 Other Features*"
      ],
      "metadata": {
        "id": "YlIYzG4OYRgj"
      }
    },
    {
      "cell_type": "markdown",
      "source": [
        "As the remaining features in the dataset had the comparatively less unique values, we applied one-hot-encoding for each of them."
      ],
      "metadata": {
        "id": "0mcC0xI3YYyN"
      }
    },
    {
      "cell_type": "code",
      "source": [
        "feat_toOHE = ['gender', \n",
        "             'signup_method', \n",
        "             'signup_flow', \n",
        "             'language', \n",
        "             'affiliate_channel', \n",
        "             'affiliate_provider', \n",
        "             'first_affiliate_tracked', \n",
        "             'signup_app', \n",
        "             'first_device_type', \n",
        "             'first_browser']\n",
        "\n",
        "# Apply one-hot-encoding for all other features\n",
        "for f in feat_toOHE:\n",
        "    df_ohe = pd.get_dummies(df_users[f], prefix=f, dummy_na=True)\n",
        "    df_users.drop([f], axis = 1, inplace = True)\n",
        "    df_users = pd.concat((df_users, df_ohe), axis = 1)\n",
        "\n",
        "# Save data file\n",
        "df_users.to_csv('df_users.csv')"
      ],
      "metadata": {
        "id": "RLg-dqguXdva"
      },
      "execution_count": null,
      "outputs": []
    },
    {
      "cell_type": "markdown",
      "source": [
        "* #### 3.4.1 Data Merge ####"
      ],
      "metadata": {
        "id": "pbIJ2EClY3BO"
      }
    },
    {
      "cell_type": "code",
      "source": [
        "# Load the datasets\n",
        "df_users = pd.read_csv('df_users.csv')\n",
        "df_agg_sess = pd.read_csv('df_agg_sessions.csv')"
      ],
      "metadata": {
        "id": "fxVCJoqbcLVY"
      },
      "execution_count": null,
      "outputs": []
    },
    {
      "cell_type": "code",
      "source": [
        "# Combine the training, test and sessions datasets\n",
        "#df_agg_sess.reset_index(drop = True, inplace = True) # Remove 'id' in the index level\n",
        "df_all = pd.merge(df_users, df_agg_sess, on = 'id', how='left')\n",
        "df_all = df_all.drop(['id', 'id.1','Unnamed: 0'], axis=1) # Delete the id\n",
        "df_all = df_all.fillna(-2)  # fill in the empty values with '-2' so that we could count the null values and make it a new feature"
      ],
      "metadata": {
        "id": "pCX7M5nEYtI1"
      },
      "execution_count": null,
      "outputs": []
    },
    {
      "cell_type": "code",
      "source": [
        "# Add a new column for empty values counts\n",
        "df_all['all_null'] = np.array([(sum(r<0)) for r in df_all.values])\n",
        "df_all.to_csv('df_all.csv')"
      ],
      "metadata": {
        "id": "EEawj56ji2sw"
      },
      "execution_count": null,
      "outputs": []
    },
    {
      "cell_type": "markdown",
      "source": [
        "## 4.0 Machine Learning Modelling #"
      ],
      "metadata": {
        "id": "ZDBPwnZHEsJ9"
      }
    },
    {
      "cell_type": "code",
      "source": [
        "import numpy as np\n",
        "import pandas as pd\n",
        "import matplotlib.pyplot as plt\n",
        "import sklearn as sk\n",
        "%matplotlib inline\n",
        "import datetime\n",
        "import os\n",
        "import seaborn as sns\n",
        "from datetime import date\n",
        "from sklearn.preprocessing import LabelEncoder\n",
        "from sklearn.preprocessing import StandardScaler\n",
        "from sklearn.preprocessing import LabelBinarizer\n",
        "import pickle\n",
        "import seaborn as sns\n",
        "from sklearn.metrics import *\n",
        "from sklearn.model_selection import *"
      ],
      "metadata": {
        "id": "cBKw7yslEuLz"
      },
      "execution_count": 1,
      "outputs": []
    },
    {
      "cell_type": "code",
      "source": [
        "# Load the dataset\n",
        "df_all = pd.read_csv('df_all.csv')\n",
        "df_all.drop('Unnamed: 0', axis = 1, inplace = True)"
      ],
      "metadata": {
        "id": "7KZeXiNXhx7E"
      },
      "execution_count": 4,
      "outputs": []
    },
    {
      "cell_type": "code",
      "source": [
        "# Split Xtrain and Xtest based on their shape: df_train - (213451, 16)\n",
        "Xtrain = df_all.iloc[:213451, :]\n",
        "Xtest = df_all.iloc[213451:, :]\n",
        "\n",
        "# Obtain ytrain\n",
        "ytrain = df_train['country_destination']\n",
        "\n",
        "# Save as csv files\n",
        "Xtrain.to_csv(\"Airbnb_Xtrain.csv\")\n",
        "Xtest.to_csv(\"Airbnb_Xtest.csv\")\n",
        "ytrain.to_csv(\"Airbnb_ytrain.csv\") # Write array to a file as text"
      ],
      "metadata": {
        "id": "Ut2fWA5cLWzb"
      },
      "execution_count": 5,
      "outputs": []
    },
    {
      "cell_type": "code",
      "source": [
        "# Label-encoding of target column\n",
        "le = LabelEncoder()\n",
        "ytrain_le = le.fit_transform(ytrain)\n",
        "ytrain_le"
      ],
      "metadata": {
        "colab": {
          "base_uri": "https://localhost:8080/"
        },
        "id": "e0pNBDCcTJij",
        "outputId": "5539fc87-3bef-491b-d55d-7179e1d74c05"
      },
      "execution_count": 6,
      "outputs": [
        {
          "output_type": "execute_result",
          "data": {
            "text/plain": [
              "array([ 7,  7, 10, ...,  7,  7,  7])"
            ]
          },
          "metadata": {},
          "execution_count": 6
        }
      ]
    },
    {
      "cell_type": "code",
      "source": [
        "# Extract 20% of training data to fasten the modelling\n",
        "n = int(Xtrain.shape[0]*0.2)\n",
        "print (n)\n",
        "Xtrain_new = Xtrain.iloc[:n, :]\n",
        "ytrain_new = ytrain_le[:n]"
      ],
      "metadata": {
        "colab": {
          "base_uri": "https://localhost:8080/"
        },
        "id": "AYUYocqgMf21",
        "outputId": "efbe9e90-f7b1-4b7b-ed6a-02d04287c812"
      },
      "execution_count": 7,
      "outputs": [
        {
          "output_type": "stream",
          "name": "stdout",
          "text": [
            "42690\n"
          ]
        }
      ]
    },
    {
      "cell_type": "markdown",
      "source": [
        "### 4.1 Standardization ###"
      ],
      "metadata": {
        "id": "9CKcE4x_TxPb"
      }
    },
    {
      "cell_type": "markdown",
      "source": [
        "As the continuous independent variables are measured at different scales, we rescaled the original variable to have equal range or variance, making these variables equally contributed to the analysis."
      ],
      "metadata": {
        "id": "ZHXCCTVmT7Oo"
      }
    },
    {
      "cell_type": "code",
      "source": [
        "# StandardScaler()\n",
        "scaler = StandardScaler()\n",
        "Xtrain_new = scaler.fit_transform(Xtrain_new)"
      ],
      "metadata": {
        "id": "d2jEGLAkTZvN"
      },
      "execution_count": 8,
      "outputs": []
    },
    {
      "cell_type": "markdown",
      "source": [
        "### 4.2 Model Performance Metrics ###"
      ],
      "metadata": {
        "id": "0Gha-_xtJShY"
      }
    },
    {
      "cell_type": "markdown",
      "source": [
        "As the typical classification metrics measure whether the predicted value is close to the actual value and they do not account for the order of predictions, NDCG evaluation matrics is used here so that we could measure how relevant the results are and how good the ordering is."
      ],
      "metadata": {
        "id": "7lDH0g7OJXE0"
      }
    },
    {
      "cell_type": "code",
      "source": [
        "# From Kaggle Kernels\n",
        "\n",
        "from sklearn.metrics import make_scorer\n",
        "\n",
        "def dcg_score(y_true, y_score, k=5):\n",
        "    \n",
        "    \"\"\"\n",
        "    y_true : array, shape = [n_samples]\n",
        "        Ground truth (true relevance labels).\n",
        "    y_score : array, shape = [n_samples, n_classes]\n",
        "        Predicted scores.\n",
        "    k : int\n",
        "    \"\"\"\n",
        "    order = np.argsort(y_score)[::-1] #Score ranking from highest to lowest\n",
        "    y_true = np.take(y_true, order[:k])  #取出前k[0,k）个分数\n",
        "    \n",
        "    \n",
        "    #order = [3,2,1,7]\n",
        "    #y_true = [0,1,0,0]\n",
        "    #y_true =[0,0,1,0]\n",
        "    \n",
        "    \n",
        "\n",
        "    gain = 2 ** y_true - 1\n",
        "\n",
        "    discounts = np.log2(np.arange(len(y_true)) + 2)\n",
        "    return np.sum(gain / discounts)\n",
        "    # 0 doesn't count =>>>> only reduce 1 \n",
        "\n",
        "\n",
        "def ndcg_score(ground_truth, predictions, k=5):\n",
        "    \n",
        "    \"\"\"\n",
        "    Parameters\n",
        "    ----------\n",
        "    ground_truth : array, shape = [n_samples]\n",
        "        Ground truth (true labels represended as integers).\n",
        "    predictions : array, shape = [n_samples, n_classes]\n",
        "        Predicted probabilities.\n",
        "    k : int\n",
        "        Rank.\n",
        "        \n",
        "    Example\n",
        "    -------\n",
        "    >>> ground_truth = [1, 0, 2]\n",
        "    >>> predictions = [[0.15, 0.55, 0.2], [0.7, 0.2, 0.1], [0.06, 0.04, 0.9]]\n",
        "    >>> score = ndcg_score(ground_truth, predictions, k=2)\n",
        "    1.0\n",
        "    >>> predictions = [[0.9, 0.5, 0.8], [0.7, 0.2, 0.1], [0.06, 0.04, 0.9]]\n",
        "    >>> score = ndcg_score(ground_truth, predictions, k=2)\n",
        "    0.6666666666\n",
        "    \"\"\"\n",
        "    lb = LabelBinarizer()\n",
        "    lb.fit(range(len(predictions) + 1))\n",
        "    T = lb.transform(ground_truth)\n",
        "    \n",
        "    #ground_truth = [1, 0, 2]  =>>>> \n",
        "    #ground_truth : [[0, 1, 0],       [1, 0, 0],    [0, 0, 1]]\n",
        "    #predictions: [[0.15, 0.55, 0.2], [0.7, 0.2, 0.1], [0.06, 0.04, 0.9]]\n",
        "    #zip =>>> take one vector from each batch\n",
        "\n",
        "    scores = []\n",
        "\n",
        "    # Iterate over each y_true and compute the DCG score\n",
        "    for y_true, y_score in zip(T, predictions):\n",
        "        actual = dcg_score(y_true, y_score, k)\n",
        "        best = dcg_score(y_true, y_true, k)\n",
        "        score = float(actual) / float(best)\n",
        "        scores.append(score)\n",
        "\n",
        "    return np.mean(scores)\n"
      ],
      "metadata": {
        "id": "qjSqpAIANW-S"
      },
      "execution_count": 9,
      "outputs": []
    },
    {
      "cell_type": "code",
      "source": [
        "# NDCG Scorer function\n",
        "ndcg_scorer = make_scorer(ndcg_score, needs_proba= True, k=5)"
      ],
      "metadata": {
        "id": "vVf3Ajm4SE5M"
      },
      "execution_count": 10,
      "outputs": []
    },
    {
      "cell_type": "markdown",
      "source": [
        "### 4.3 XGBoost ###"
      ],
      "metadata": {
        "id": "QYOvfrwN_sSd"
      }
    },
    {
      "cell_type": "markdown",
      "source": [
        "\"XGBoost stands for Extreme Gradient Boosting, which is an implementation of gradient boosted decision trees. It was developed for the sole purpose of model performance and computational speed and was engineered to exploit every bit of memory and hardware resources for tree boosting algorithms. XGBoost is unique in its ability to add regularization parameters, which allows it to be extremely fast without sacrificing accuracy.” \n",
        "\n",
        "Generally speaking, I selected the XGBoost as it had the ability to **yield relatively high accuracy on largedatasets without sacrificing performance speed**. This approach generally tended to outperform other ensemble methods when dimensionality is low (less than 4000 dimensions), while the only major drawback is the need to perform hyperparameter."
      ],
      "metadata": {
        "id": "plsRExeQLIUl"
      }
    },
    {
      "cell_type": "code",
      "source": [
        "import xgboost as xgb\n",
        "\n",
        "def customized_eval(preds, dtrain):\n",
        "    labels = dtrain.get_label()\n",
        "    top = []\n",
        "    for i in range(preds.shape[0]):\n",
        "        top.append(np.argsort(preds[i])[::-1][:5])\n",
        "    mat = np.reshape(np.repeat(labels,np.shape(top)[1]) == np.array(top).ravel(),np.array(top).shape).astype(int)\n",
        "    score = np.mean(np.sum(mat/np.log2(np.arange(2, mat.shape[1] + 2)),axis = 1))\n",
        "    return 'ndcg5', score"
      ],
      "metadata": {
        "id": "rT8gn5iuKmVE"
      },
      "execution_count": 11,
      "outputs": []
    },
    {
      "cell_type": "code",
      "source": [
        "# xgboost parameters\n",
        "LEARNING_RATE = 0.1\n",
        "N_ESTIMATORS = 50\n",
        "RANDOM_STATE = 2017\n",
        "MAX_DEPTH = 9\n",
        "NUM_XGB = 200\n",
        "params = {}\n",
        "params['colsample_bytree'] = 0.6\n",
        "params['max_depth'] = 6\n",
        "params['subsample'] = 0.8\n",
        "params['eta'] = 0.3\n",
        "params['seed'] = RANDOM_STATE\n",
        "params['num_class'] = 12\n",
        "params['objective'] = 'multi:softprob'   # output the probability instead of class. \n",
        "print (params)"
      ],
      "metadata": {
        "colab": {
          "base_uri": "https://localhost:8080/"
        },
        "id": "ZoP2I1SrOKHx",
        "outputId": "68421820-37ea-4831-901b-3444caee8114"
      },
      "execution_count": 12,
      "outputs": [
        {
          "output_type": "stream",
          "name": "stdout",
          "text": [
            "{'colsample_bytree': 0.6, 'max_depth': 6, 'subsample': 0.8, 'eta': 0.3, 'seed': 2017, 'num_class': 12, 'objective': 'multi:softprob'}\n"
          ]
        }
      ]
    },
    {
      "cell_type": "code",
      "source": [
        "# Modelling & Success Metrics\n",
        "train_score_iter = []\n",
        "cv_score_iter = []\n",
        "kf = KFold(n_splits = 3, random_state=RANDOM_STATE, shuffle=True)\n",
        "k_ndcg = 5\n",
        "\n",
        "for train_index, test_index in kf.split(Xtrain_new, ytrain_new):\n",
        "\n",
        "    X_train, X_test = Xtrain_new[train_index, :], Xtrain_new[test_index, :]\n",
        "    y_train, y_test = ytrain_new[train_index], ytrain_new[test_index]\n",
        "\n",
        "    print (X_train.shape, X_test.shape)\n",
        "    \n",
        "    train_xgb = xgb.DMatrix(X_train, label= y_train)\n",
        "    test_xgb = xgb.DMatrix(X_test, label = y_test)\n",
        "    \n",
        "    watchlist = [ (train_xgb,'train'), (test_xgb, 'test') ]\n",
        "\n",
        "    # Develop the model\n",
        "    bst = xgb.train(params, \n",
        "                     train_xgb,\n",
        "                     NUM_XGB,\n",
        "                     watchlist,\n",
        "                     feval = customized_eval,\n",
        "                     verbose_eval = 3,\n",
        "                     early_stopping_rounds = 5)\n",
        "\n",
        "    y_pred = np.array(bst.predict(test_xgb))\n",
        "    y_pred_train = np.array(bst.predict(train_xgb))\n",
        "    \n",
        "    # NDCG evaluation\n",
        "    train_ndcg_score = ndcg_score(y_train, y_pred_train , k = k_ndcg)\n",
        "    cv_ndcg_score = ndcg_score(y_test, y_pred, k=k_ndcg)\n",
        "\n",
        "    train_score_iter.append(train_ndcg_score)\n",
        "    cv_score_iter.append(cv_ndcg_score)\n",
        "\n",
        "train_score_xgb = np.mean(train_score_iter)\n",
        "cv_score_xgb = np.mean(cv_score_iter)"
      ],
      "metadata": {
        "colab": {
          "base_uri": "https://localhost:8080/"
        },
        "id": "OWjk1MVHELGt",
        "outputId": "1b051628-64e6-41b9-c473-0c311847d300"
      },
      "execution_count": 71,
      "outputs": [
        {
          "output_type": "stream",
          "name": "stdout",
          "text": [
            "(28460, 661) (14230, 661)\n",
            "[0]\ttrain-merror:0.42442\ttest-merror:0.42832\ttrain-ndcg5:0.79495\ttest-ndcg5:0.788634\n",
            "Multiple eval metrics have been passed: 'test-ndcg5' will be used for early stopping.\n",
            "\n",
            "Will train until test-ndcg5 hasn't improved in 5 rounds.\n",
            "[3]\ttrain-merror:0.414863\ttest-merror:0.420239\ttrain-ndcg5:0.802893\ttest-ndcg5:0.79418\n",
            "Stopping. Best iteration:\n",
            "[0]\ttrain-merror:0.42442\ttest-merror:0.42832\ttrain-ndcg5:0.79495\ttest-ndcg5:0.788634\n",
            "\n",
            "(28460, 661) (14230, 661)\n",
            "[0]\ttrain-merror:0.426528\ttest-merror:0.42305\ttrain-ndcg5:0.793877\ttest-ndcg5:0.79224\n",
            "Multiple eval metrics have been passed: 'test-ndcg5' will be used for early stopping.\n",
            "\n",
            "Will train until test-ndcg5 hasn't improved in 5 rounds.\n",
            "[3]\ttrain-merror:0.417323\ttest-merror:0.417498\ttrain-ndcg5:0.8014\ttest-ndcg5:0.795674\n",
            "Stopping. Best iteration:\n",
            "[0]\ttrain-merror:0.426528\ttest-merror:0.42305\ttrain-ndcg5:0.793877\ttest-ndcg5:0.79224\n",
            "\n",
            "(28460, 661) (14230, 661)\n",
            "[0]\ttrain-merror:0.418447\ttest-merror:0.436753\ttrain-ndcg5:0.798632\ttest-ndcg5:0.782545\n",
            "Multiple eval metrics have been passed: 'test-ndcg5' will be used for early stopping.\n",
            "\n",
            "Will train until test-ndcg5 hasn't improved in 5 rounds.\n",
            "[3]\ttrain-merror:0.406079\ttest-merror:0.430007\ttrain-ndcg5:0.806523\ttest-ndcg5:0.787035\n",
            "Stopping. Best iteration:\n",
            "[0]\ttrain-merror:0.418447\ttest-merror:0.436753\ttrain-ndcg5:0.798632\ttest-ndcg5:0.782545\n",
            "\n",
            "\n",
            "The training score is: 0.8062599522027264\n",
            "The cv score is: 0.7924442966787636\n",
            "\n"
          ]
        }
      ]
    },
    {
      "cell_type": "markdown",
      "source": [
        "**Comment**: Based on the above results, we obtained a fair score for both training and test data which are around 80%. Since we only used 20% of input dataset to train the model, we could further improve the model using the entire training dataset."
      ],
      "metadata": {
        "id": "Lka0AqQIMyMI"
      }
    },
    {
      "cell_type": "code",
      "source": [
        "# Feature Importance\n",
        "feature_importances = pd.Series(bst.get_fscore()).sort_values(ascending=False)\n",
        "feature_importances.plot(kind='bar', title='Feature Importances', figsize=(16, 8))"
      ],
      "metadata": {
        "colab": {
          "base_uri": "https://localhost:8080/",
          "height": 530
        },
        "id": "lyVtUhw0st2H",
        "outputId": "e1765010-7cd8-4680-d68e-fcbda1b6e9f1"
      },
      "execution_count": 64,
      "outputs": [
        {
          "output_type": "execute_result",
          "data": {
            "text/plain": [
              "<matplotlib.axes._subplots.AxesSubplot at 0x7f85b26ca6d0>"
            ]
          },
          "metadata": {},
          "execution_count": 64
        },
        {
          "output_type": "display_data",
          "data": {
            "text/plain": [
              "<Figure size 1152x576 with 1 Axes>"
            ],
            "image/png": "[encoded data removed]"
          },
          "metadata": {
            "needs_background": "light"
          }
        }
      ]
    },
    {
      "cell_type": "code",
      "source": [
        "# Save the model\n",
        "pickle.dump(bst, open('Airbnb_NewUsersBookingPrediction.pkl', 'wb'))"
      ],
      "metadata": {
        "id": "v6QgetP73-UO"
      },
      "execution_count": 100,
      "outputs": []
    },
    {
      "cell_type": "markdown",
      "source": [
        "## 5.0 Deploy the Model with 'test_users.csv' ##"
      ],
      "metadata": {
        "id": "L02D6IBG3_9T"
      }
    },
    {
      "cell_type": "code",
      "source": [
        "# Load a NumPy array into DMatrix\n",
        "df_test_xgb = xgb.DMatrix(Xtest)\n",
        "\n",
        "# Make predictions for test dataset\n",
        "df_test_prediction = bst.predict(df_test_xgb)\n",
        "df_test_prediction"
      ],
      "metadata": {
        "id": "BZB3Biiq4San"
      },
      "execution_count": 94,
      "outputs": []
    },
    {
      "cell_type": "code",
      "source": [
        "# Obtain the top 5 ranking destination countries\n",
        "test_id = df_test['id']\n",
        "\n",
        "ids = []  #list of ids\n",
        "cts = []  #list of countries\n",
        "for i in range(len(test_id)):\n",
        "    idx = test_id[i]\n",
        "    ids += [idx] * 5\n",
        "    cts += le.inverse_transform(np.argsort(df_test_prediction[i])[::-1])[:5].tolist()\n",
        "\n",
        "test_prediction_results = pd.DataFrame(np.column_stack((ids, cts)), columns=['id', 'country'])\n",
        "\n",
        "# Groupby the dataframe\n",
        "test_prediction_results1 = test_prediction_results.groupby(by = 'id').agg({'country':list})\n",
        "print(test_prediction_results1)"
      ],
      "metadata": {
        "colab": {
          "base_uri": "https://localhost:8080/"
        },
        "id": "s0tbpa7Qm3Gh",
        "outputId": "0fb2eb23-0c73-41a7-d3a1-9e91ad937b46"
      },
      "execution_count": 105,
      "outputs": [
        {
          "output_type": "stream",
          "name": "stdout",
          "text": [
            "                             country\n",
            "id                                  \n",
            "0010k6l0om  [NDF, US, GB, other, FR]\n",
            "0031awlkjq  [US, NDF, other, GB, FR]\n",
            "00378ocvlh  [US, NDF, other, FR, GB]\n",
            "0048rkdgb1  [NDF, US, GB, other, FR]\n",
            "0057snrdpu  [US, NDF, other, FR, DE]\n",
            "...                              ...\n",
            "zzu6ezwap2  [US, NDF, other, GB, FR]\n",
            "zzunwylrfv  [NDF, US, GB, other, FR]\n",
            "zzv6z6rjr9  [NDF, US, GB, other, FR]\n",
            "zzx0hfd74v  [US, NDF, other, GB, DE]\n",
            "zzxox7jnrx  [US, NDF, other, GB, DE]\n",
            "\n",
            "[62096 rows x 1 columns]\n"
          ]
        }
      ]
    }
  ]
}